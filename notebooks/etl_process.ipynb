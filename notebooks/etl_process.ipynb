{
 "cells": [
  {
   "cell_type": "markdown",
   "metadata": {},
   "source": [
    "# MOX CREDIT SCORING PROJECT"
   ]
  },
  {
   "cell_type": "markdown",
   "metadata": {},
   "source": [
    "# ETL PROCESS + TARGET MAKING"
   ]
  },
  {
   "cell_type": "markdown",
   "metadata": {},
   "source": [
    "### Importing the necessary libraries"
   ]
  },
  {
   "cell_type": "code",
   "execution_count": 48,
   "metadata": {},
   "outputs": [],
   "source": [
    "import os\n",
    "import re\n",
    "import json\n",
    "import numpy as np\n",
    "import pandas as pd\n",
    "from pymongo import MongoClient\n",
    "from datetime import datetime\n",
    "from datetime import timedelta\n",
    "from dateutil.relativedelta import relativedelta"
   ]
  },
  {
   "cell_type": "markdown",
   "metadata": {},
   "source": [
    "### URI conection with mongodb"
   ]
  },
  {
   "cell_type": "code",
   "execution_count": null,
   "metadata": {},
   "outputs": [],
   "source": [
    "mongo_uri = os.environ['URL_DATABASE']"
   ]
  },
  {
   "cell_type": "markdown",
   "metadata": {},
   "source": [
    "### Making a client in MongoClient"
   ]
  },
  {
   "cell_type": "code",
   "execution_count": 50,
   "metadata": {},
   "outputs": [],
   "source": [
    "client = MongoClient(mongo_uri)"
   ]
  },
  {
   "cell_type": "markdown",
   "metadata": {},
   "source": [
    "### Access to the 'imms' database"
   ]
  },
  {
   "cell_type": "code",
   "execution_count": 51,
   "metadata": {},
   "outputs": [],
   "source": [
    "db = client['validationsdb']"
   ]
  },
  {
   "cell_type": "markdown",
   "metadata": {},
   "source": [
    "### Access collection 'imms_example'"
   ]
  },
  {
   "cell_type": "code",
   "execution_count": 52,
   "metadata": {},
   "outputs": [],
   "source": [
    "collection = db['validations']"
   ]
  },
  {
   "cell_type": "markdown",
   "metadata": {},
   "source": [
    "### Extract all records from the collection"
   ]
  },
  {
   "cell_type": "code",
   "execution_count": 53,
   "metadata": {},
   "outputs": [],
   "source": [
    "mox_final = collection.find({})\n"
   ]
  },
  {
   "cell_type": "markdown",
   "metadata": {},
   "source": [
    "### Create a Pandas DataFrame with the extracted data"
   ]
  },
  {
   "cell_type": "code",
   "execution_count": 54,
   "metadata": {},
   "outputs": [],
   "source": [
    "df_mox = pd.DataFrame(list(mox_final))"
   ]
  },
  {
   "cell_type": "markdown",
   "metadata": {},
   "source": [
    "### Observing the first 5 data"
   ]
  },
  {
   "cell_type": "code",
   "execution_count": 55,
   "metadata": {},
   "outputs": [
    {
     "data": {
      "text/html": [
       "<div>\n",
       "<style scoped>\n",
       "    .dataframe tbody tr th:only-of-type {\n",
       "        vertical-align: middle;\n",
       "    }\n",
       "\n",
       "    .dataframe tbody tr th {\n",
       "        vertical-align: top;\n",
       "    }\n",
       "\n",
       "    .dataframe thead th {\n",
       "        text-align: right;\n",
       "    }\n",
       "</style>\n",
       "<table border=\"1\" class=\"dataframe\">\n",
       "  <thead>\n",
       "    <tr style=\"text-align: right;\">\n",
       "      <th></th>\n",
       "      <th>_id</th>\n",
       "      <th>transactionId</th>\n",
       "      <th>createdAt</th>\n",
       "      <th>curp</th>\n",
       "      <th>dob</th>\n",
       "      <th>semanasCotizadas</th>\n",
       "      <th>semanasDescontadas</th>\n",
       "      <th>semanasReintegradas</th>\n",
       "      <th>historialLaboral</th>\n",
       "    </tr>\n",
       "  </thead>\n",
       "  <tbody>\n",
       "    <tr>\n",
       "      <th>0</th>\n",
       "      <td>64ac8c8c6a450cc3b38ff1fe</td>\n",
       "      <td>c81b9a81-60ce-4134-87c0-b667574b5859</td>\n",
       "      <td>Tue, 04 Apr 2023 17:53:49 GMT</td>\n",
       "      <td>efe93735d0990e9b6f2d0428e8b997ddf13642190476e4...</td>\n",
       "      <td>981119</td>\n",
       "      <td>44</td>\n",
       "      <td>0</td>\n",
       "      <td>0</td>\n",
       "      <td>[{'fechaBaja': 'Vigente', 'fechaAlta': '06/01/...</td>\n",
       "    </tr>\n",
       "    <tr>\n",
       "      <th>1</th>\n",
       "      <td>64ac8c8c6a450cc3b38ff1ff</td>\n",
       "      <td>71333ea4-62af-4a9e-b01d-42fff40ca033</td>\n",
       "      <td>Tue, 04 Apr 2023 18:28:11 GMT</td>\n",
       "      <td>49d09e0ee642ad942a03a308dbf459ce729d934efbf21a...</td>\n",
       "      <td>971113</td>\n",
       "      <td>32</td>\n",
       "      <td>0</td>\n",
       "      <td>0</td>\n",
       "      <td>[{'fechaBaja': 'Vigente', 'fechaAlta': '10/20/...</td>\n",
       "    </tr>\n",
       "    <tr>\n",
       "      <th>2</th>\n",
       "      <td>64ac8c8c6a450cc3b38ff200</td>\n",
       "      <td>2e8e0c56-f108-4e07-815e-71a9ce55e363</td>\n",
       "      <td>Tue, 04 Apr 2023 18:28:11 GMT</td>\n",
       "      <td>efe93735d0990e9b6f2d0428e8b997ddf13642190476e4...</td>\n",
       "      <td>981119</td>\n",
       "      <td>44</td>\n",
       "      <td>0</td>\n",
       "      <td>0</td>\n",
       "      <td>[{'fechaBaja': 'Vigente', 'fechaAlta': '06/01/...</td>\n",
       "    </tr>\n",
       "    <tr>\n",
       "      <th>3</th>\n",
       "      <td>64ac8c8c6a450cc3b38ff201</td>\n",
       "      <td>6e98c639-d0b0-4590-bc03-b57fa2f178b2</td>\n",
       "      <td>Tue, 04 Apr 2023 18:35:13 GMT</td>\n",
       "      <td>a832a2f4b357a6088106c7befe9da78440b98f9ecc6428...</td>\n",
       "      <td>700124</td>\n",
       "      <td>1205</td>\n",
       "      <td>0</td>\n",
       "      <td>0</td>\n",
       "      <td>[{'fechaBaja': 'Vigente', 'fechaAlta': '08/25/...</td>\n",
       "    </tr>\n",
       "    <tr>\n",
       "      <th>4</th>\n",
       "      <td>64ac8c8c6a450cc3b38ff202</td>\n",
       "      <td>c216f5a3-b180-47d2-8376-0c213aa0e3ba</td>\n",
       "      <td>Tue, 04 Apr 2023 18:35:13 GMT</td>\n",
       "      <td>bf5fb50e1475d6fc2a4a9dfd31167b5399759f7c8606e4...</td>\n",
       "      <td>650906</td>\n",
       "      <td>618</td>\n",
       "      <td>78</td>\n",
       "      <td>0</td>\n",
       "      <td>[{'fechaBaja': 'Vigente', 'fechaAlta': '12/08/...</td>\n",
       "    </tr>\n",
       "  </tbody>\n",
       "</table>\n",
       "</div>"
      ],
      "text/plain": [
       "                        _id                         transactionId  \\\n",
       "0  64ac8c8c6a450cc3b38ff1fe  c81b9a81-60ce-4134-87c0-b667574b5859   \n",
       "1  64ac8c8c6a450cc3b38ff1ff  71333ea4-62af-4a9e-b01d-42fff40ca033   \n",
       "2  64ac8c8c6a450cc3b38ff200  2e8e0c56-f108-4e07-815e-71a9ce55e363   \n",
       "3  64ac8c8c6a450cc3b38ff201  6e98c639-d0b0-4590-bc03-b57fa2f178b2   \n",
       "4  64ac8c8c6a450cc3b38ff202  c216f5a3-b180-47d2-8376-0c213aa0e3ba   \n",
       "\n",
       "                       createdAt  \\\n",
       "0  Tue, 04 Apr 2023 17:53:49 GMT   \n",
       "1  Tue, 04 Apr 2023 18:28:11 GMT   \n",
       "2  Tue, 04 Apr 2023 18:28:11 GMT   \n",
       "3  Tue, 04 Apr 2023 18:35:13 GMT   \n",
       "4  Tue, 04 Apr 2023 18:35:13 GMT   \n",
       "\n",
       "                                                curp     dob semanasCotizadas  \\\n",
       "0  efe93735d0990e9b6f2d0428e8b997ddf13642190476e4...  981119               44   \n",
       "1  49d09e0ee642ad942a03a308dbf459ce729d934efbf21a...  971113               32   \n",
       "2  efe93735d0990e9b6f2d0428e8b997ddf13642190476e4...  981119               44   \n",
       "3  a832a2f4b357a6088106c7befe9da78440b98f9ecc6428...  700124             1205   \n",
       "4  bf5fb50e1475d6fc2a4a9dfd31167b5399759f7c8606e4...  650906              618   \n",
       "\n",
       "  semanasDescontadas semanasReintegradas  \\\n",
       "0                  0                   0   \n",
       "1                  0                   0   \n",
       "2                  0                   0   \n",
       "3                  0                   0   \n",
       "4                 78                   0   \n",
       "\n",
       "                                    historialLaboral  \n",
       "0  [{'fechaBaja': 'Vigente', 'fechaAlta': '06/01/...  \n",
       "1  [{'fechaBaja': 'Vigente', 'fechaAlta': '10/20/...  \n",
       "2  [{'fechaBaja': 'Vigente', 'fechaAlta': '06/01/...  \n",
       "3  [{'fechaBaja': 'Vigente', 'fechaAlta': '08/25/...  \n",
       "4  [{'fechaBaja': 'Vigente', 'fechaAlta': '12/08/...  "
      ]
     },
     "execution_count": 55,
     "metadata": {},
     "output_type": "execute_result"
    }
   ],
   "source": [
    "df_mox.head()"
   ]
  },
  {
   "cell_type": "code",
   "execution_count": 56,
   "metadata": {},
   "outputs": [
    {
     "data": {
      "text/plain": [
       "(27470, 9)"
      ]
     },
     "execution_count": 56,
     "metadata": {},
     "output_type": "execute_result"
    }
   ],
   "source": [
    "df_mox.shape"
   ]
  },
  {
   "cell_type": "markdown",
   "metadata": {},
   "source": [
    "### Looking duplicated values"
   ]
  },
  {
   "cell_type": "code",
   "execution_count": 57,
   "metadata": {},
   "outputs": [
    {
     "data": {
      "text/plain": [
       "curp\n",
       "d205bdb41d60595fd3862b681b8d8f4cd22769b54c62ea1e89bacc3d934ce207    77\n",
       "be8abe02cc8e1e9322258c07f3b0d8d249601a868efa81bbd05ce75a0676dff1    43\n",
       "0033fb7021ea8e8ed69f69a585314c0a3f579e65ef0f9f3191d315427248afa5    30\n",
       "c3e27a5eb9ced3c643fda8fae7f9c86d055554026bd531658712260860e8ebe1    22\n",
       "0e4b73e2054aee05406262724f4239dd13fe23a17603ac919d418a927e74a910    19\n",
       "c1dcc75d9497f79bbd908916a31d66b6db7c6576e9cc078a2796ed95cfb9a36c    17\n",
       "52618826094047150986fadb60a4b737458e8463b13d737489ba07e201cee3d4    16\n",
       "d3c5020ac36d1213c7a5e75cbcdbff46e51d3bcbdaec12f813d31c9d6d0e46e7    12\n",
       "bf5fb50e1475d6fc2a4a9dfd31167b5399759f7c8606e4a77cb786b475b8d604    11\n",
       "e048f224c4a1468c81ce627b973018492f7ebd8ddcb65b14edaefe9a2a0874d4    10\n",
       "641365e3df64b0fcd3cd4c2646f42151834e0ce278fbfa0011d9266b0dedcaf3     9\n",
       "c3aa9697142fff55b66d4902c5609cc306f6ac6c9a1ed399443cca9ce18728ab     8\n",
       "4554f5132d172971dfb0c0ce3c53068c87b32a227733478966401055f6d3b50a     7\n",
       "c851c0727b38b3a8ea4c53422901f2e3f50223786c17dc179e5f0783bfbccdc3     7\n",
       "dfb5296756fe08ae3a3234ffb87e1214c957d638c3f32002c2d5b74c4d730b4d     6\n",
       "eb6c692aac45307c291ddc601146cdb085c7b188b273afc92ffaa13702d411e7     6\n",
       "6099416ecf5364c14c387517971fa062671c5ab5a54eb784b1eee46bf0e211ff     6\n",
       "93e4ae2a8143742cd50bd65576d328e5114e850276d01c3fc4382d2139b6dd27     6\n",
       "3e24391eea6b4ad051a946b99d7f626d5d97fdbfff00d26a6e0d9fc5ce41106f     6\n",
       "67cdec9087187cfe557866a3674bdd82c98a7cbe84506b7ec9ad60297d27ca74     5\n",
       "bd5144e49ca945921caa6f6df6edcf73926b36319d976bc8b6b0a7493dbfddf1     5\n",
       "79d04ea851264031a907c43333afb45f7125509199de3581bbbb5fb0609d1659     5\n",
       "c4b63c8292a3622112f0363dadf5b944234fd1fdf6b11e1af78081243b584893     5\n",
       "8ec2d46b60a9e0a3cd0259bd5fa64c940b2e14b433dc221362244a3669f18e86     5\n",
       "4ead67a143baebcc075030916cff088b24fcb933dbbbab52825163b4ef021a37     5\n",
       "c0a5f6f53b308a2cdb22e1f7f31381a4f5b085804115cc73cbdd929f0bb3866a     4\n",
       "e664abb834ae2caf02321ab491fc689ccb0e7edac3086cab0395a8dce4a7f73a     4\n",
       "1f5ff67ed971c7b448a478d3d02d1bca4bd595ab0c5bfa75a2ca37bd38a1d93d     4\n",
       "f6e6444343f20b1632c62b7b634c0c8e07ee57a1f30526d84f17e5c3aac29dd5     4\n",
       "75ea8d3ea9750ed0ea7fe87a1a2e9433a70fb944727cb9bf12195f346abf93e1     4\n",
       "51a5347a1401f7ca63d15beab69cd4101138d49c20dff71a4384277d7880068e     4\n",
       "dbc9864fd283d07a0709dd7f7aaf118abd4d42b0df50b41de084ef3270b7ba4b     4\n",
       "d0d46d537945df365f1e396a9307d7a94dc9da1de76b1079dd722530554b413f     4\n",
       "10a1e9af5e0bec75a99c5a5a1d249eb445ece0b36a224a1715cf16ef7bb750b5     4\n",
       "4e07050c080ed2385118d8bcd1b3c4c538fa3f00327db9bf3bc75322119e386e     4\n",
       "9798a72c26a03c43da38e7af52175ff7d8c0ec70bd9e6447c32f877eab34a204     4\n",
       "19b6172b22eaeb34ed1a1b2322106155f90ec4753e183702a725462f6d2b69b4     4\n",
       "e078b975cb774197f2301b4be8854437cbe6437e6408d4c82588a8b72ad7fbe8     4\n",
       "982a0b3acb713e98d460572e7c9d38b0827b6d4176317233d5aaf3779a03bd1b     4\n",
       "b2a3b05ee0251a8fdd8da8105431513514517e89afcfdf6115f8c376638ae2f1     4\n",
       "0709e31ff858bf63976c1a1c4d38ee537320450d7cebf9fa255161463e2f83c1     4\n",
       "cd4da28a7082f73cbf86fd21f237a1c435399f6929009fff7c49db1dced9c56f     4\n",
       "cd2d5f38ecbd5f16510f9e8443fd82f0e5456895a4b6401c271a19e8dd97b304     4\n",
       "e9fa08547c603f0b2d324cad0b72fd6e3b7745844c953283daaef13f79ba6517     4\n",
       "335f418b26261601ccbe2db47030f39e14c3f25c41edb362edc2c9e590d07c87     4\n",
       "d98a8ecf21d09394d5bf81841175d5710009def5df89b722efc8157061de58b2     3\n",
       "94ee3a631edbc41044ef3f6500ee93d57bbbeebe0a255946822c8bc57d217805     3\n",
       "7e342d329d4e6fe3b9b62de450d47def0e85d83ca97213d82c9c54fb3773e579     3\n",
       "de6997f88b146118b36ab359b93c17f196a9ce7d3b246dfe476485767377fd53     3\n",
       "7becec3d3e132402b54db66af100a0e8199fe0626ff471a91906c68025d0d1ad     3\n",
       "Name: count, dtype: int64"
      ]
     },
     "execution_count": 57,
     "metadata": {},
     "output_type": "execute_result"
    }
   ],
   "source": [
    "df_mox['curp'].value_counts().head(50)"
   ]
  },
  {
   "cell_type": "markdown",
   "metadata": {},
   "source": [
    "### fixing the createdAt column"
   ]
  },
  {
   "cell_type": "code",
   "execution_count": 58,
   "metadata": {},
   "outputs": [],
   "source": [
    "def fix_dates(dates):\n",
    "    \"\"\"Parses date/time strings in two different formats and returns a datetime object or a formatted string.\n",
    "\n",
    "    Args:\n",
    "        dates (str): A string representing a date and time\n",
    "    Returns:\n",
    "        dates (datetime): the date in a fixed format\n",
    "\n",
    "    try:\n",
    "        return pd.to_datetime(dates, format='%a, %d %b %Y %H:%M:%S %Z')\n",
    "    except ValueError:\n",
    "        return pd.to_datetime(dates[:-5], format='%Y-%m-%dT%H:%M:%S')\n",
    "    \"\"\"\n",
    "\n",
    "    try:\n",
    "        dates = pd.to_datetime(dates,format='%a, %d %b %Y %H:%M:%S %Z').strftime('%Y-%m-%d %H:%M:%S')\n",
    "        formato_str = '%Y-%m-%d %H:%M:%S'\n",
    "        dates = datetime.strptime(dates, formato_str)\n",
    "        return dates\n",
    "    except ValueError:\n",
    "        return pd.to_datetime(dates[:-5], format='%Y-%m-%dT%H:%M:%S')"
   ]
  },
  {
   "cell_type": "code",
   "execution_count": 59,
   "metadata": {},
   "outputs": [],
   "source": [
    "df_mox['createdAt'] = df_mox['createdAt'].apply(fix_dates)"
   ]
  },
  {
   "cell_type": "markdown",
   "metadata": {},
   "source": [
    "### Sorting the data by most current dates"
   ]
  },
  {
   "cell_type": "code",
   "execution_count": 60,
   "metadata": {},
   "outputs": [],
   "source": [
    "df_mox = df_mox.sort_values('createdAt', ascending=False)"
   ]
  },
  {
   "cell_type": "markdown",
   "metadata": {},
   "source": [
    "### Deleting duplicated curps"
   ]
  },
  {
   "cell_type": "code",
   "execution_count": 61,
   "metadata": {},
   "outputs": [],
   "source": [
    "df_mox = df_mox.drop_duplicates('curp')"
   ]
  },
  {
   "cell_type": "markdown",
   "metadata": {},
   "source": [
    "### Reseting indexes in the table"
   ]
  },
  {
   "cell_type": "code",
   "execution_count": 62,
   "metadata": {},
   "outputs": [],
   "source": [
    "df_mox.reset_index(drop= True, inplace= True)"
   ]
  },
  {
   "cell_type": "markdown",
   "metadata": {},
   "source": [
    "### Deleting unused columns"
   ]
  },
  {
   "cell_type": "code",
   "execution_count": 63,
   "metadata": {},
   "outputs": [],
   "source": [
    "df_mox = df_mox.drop(['_id', 'transactionId','semanasDescontadas','semanasReintegradas'], axis= 1)"
   ]
  },
  {
   "cell_type": "markdown",
   "metadata": {},
   "source": [
    "### Dividing the data into 2 different dataframes\n",
    "### first with current_place and second without it"
   ]
  },
  {
   "cell_type": "code",
   "execution_count": 64,
   "metadata": {},
   "outputs": [],
   "source": [
    "df_con_entidad = pd.DataFrame(columns=df_mox.columns)\n",
    "df_sin_entidad = pd.DataFrame(columns=df_mox.columns)\n",
    "\n",
    "for index, row in df_mox.iterrows():\n",
    "    entidad_presente = False\n",
    "    for d in row['historialLaboral']:\n",
    "        if 'entidadFederativa' in d:\n",
    "            entidad_presente = True\n",
    "            break\n",
    "\n",
    "    if entidad_presente:\n",
    "        df_con_entidad = pd.concat([df_con_entidad, pd.DataFrame([row])], ignore_index=True)\n",
    "    else:\n",
    "        df_sin_entidad = pd.concat([df_sin_entidad, pd.DataFrame([row])], ignore_index=True)"
   ]
  },
  {
   "cell_type": "markdown",
   "metadata": {},
   "source": [
    "### Unnesting the df_con_entidad"
   ]
  },
  {
   "cell_type": "code",
   "execution_count": 65,
   "metadata": {},
   "outputs": [],
   "source": [
    "output = []\n",
    "\n",
    "for index, list_element in enumerate(df_con_entidad['historialLaboral']):\n",
    "    person_data = {\n",
    "        'fechaAlta': [],\n",
    "        'fechaBaja': [],\n",
    "        'salarioBaseCotizacion': [],\n",
    "        'nombrePatron': [],\n",
    "        'entidadFederativa': []\n",
    "    }\n",
    "\n",
    "    for d in list_element:\n",
    "        person_data['fechaAlta'].append(d.get('fechaAlta'))\n",
    "        person_data['fechaBaja'].append(d.get('fechaBaja'))\n",
    "        person_data['salarioBaseCotizacion'].append(d.get('salarioBaseCotizacion'))\n",
    "        person_data['nombrePatron'].append(d.get('nombrePatron'))\n",
    "        person_data['entidadFederativa'].append(d.get('entidadFederativa'))\n",
    "\n",
    "    output.append(person_data)\n",
    "\n",
    "output_df = pd.DataFrame(output)\n",
    "\n",
    "df_con_entidad = pd.concat([df_con_entidad, output_df], axis=1)"
   ]
  },
  {
   "cell_type": "markdown",
   "metadata": {},
   "source": [
    "### Unnesting the df_sin_entidad"
   ]
  },
  {
   "cell_type": "code",
   "execution_count": 66,
   "metadata": {},
   "outputs": [],
   "source": [
    "output = []\n",
    "\n",
    "for index, list_element in enumerate(df_sin_entidad['historialLaboral']):\n",
    "    person_data = {\n",
    "        'fechaAlta': [],\n",
    "        'fechaBaja': [],\n",
    "        'salarioBaseCotizacion': [],\n",
    "        'nombrePatron': []\n",
    "    }\n",
    "\n",
    "    for d in list_element:\n",
    "        person_data['fechaAlta'].append(d.get('fechaAlta'))\n",
    "        person_data['fechaBaja'].append(d.get('fechaBaja'))\n",
    "        person_data['salarioBaseCotizacion'].append(d.get('salarioBaseCotizacion'))\n",
    "        person_data['nombrePatron'].append(d.get('nombrePatron'))\n",
    "\n",
    "    output.append(person_data)\n",
    "\n",
    "output_df = pd.DataFrame(output)\n",
    "\n",
    "df_sin_entidad.reset_index(drop=True,inplace=True)\n",
    "\n",
    "df_sin_entidad = pd.concat([df_sin_entidad, output_df], axis=1)"
   ]
  },
  {
   "cell_type": "markdown",
   "metadata": {},
   "source": [
    "### Joinin the 2 dataframes into a single dataframe"
   ]
  },
  {
   "cell_type": "code",
   "execution_count": 67,
   "metadata": {},
   "outputs": [],
   "source": [
    "if len(df_sin_entidad.columns) < len(df_con_entidad.columns):\n",
    "    df_sin_entidad = df_sin_entidad.reindex(columns=df_con_entidad.columns)\n",
    "\n",
    "df_final = pd.concat([df_sin_entidad, df_con_entidad], ignore_index=True)"
   ]
  },
  {
   "cell_type": "markdown",
   "metadata": {},
   "source": [
    "### Eliminating the nested columns, since we extracted the information from it"
   ]
  },
  {
   "cell_type": "code",
   "execution_count": 68,
   "metadata": {},
   "outputs": [],
   "source": [
    "df_final.drop(['historialLaboral','createdAt'], axis=1, inplace=True)"
   ]
  },
  {
   "cell_type": "markdown",
   "metadata": {},
   "source": [
    "### Calculating the current date"
   ]
  },
  {
   "cell_type": "code",
   "execution_count": 69,
   "metadata": {},
   "outputs": [],
   "source": [
    "now = datetime.now()\n",
    "current_year = now.year"
   ]
  },
  {
   "cell_type": "markdown",
   "metadata": {},
   "source": [
    "### Creating the age column"
   ]
  },
  {
   "cell_type": "code",
   "execution_count": 70,
   "metadata": {},
   "outputs": [],
   "source": [
    "df_final['edad'] = 0"
   ]
  },
  {
   "cell_type": "markdown",
   "metadata": {},
   "source": [
    "### Creating a function that calculates the age of the employee"
   ]
  },
  {
   "cell_type": "code",
   "execution_count": 71,
   "metadata": {},
   "outputs": [],
   "source": [
    "def calculate_age(dob, now):\n",
    "    \"\"\"\n",
    "    Calculates the age from the CURP of a person and the current date.\n",
    "\n",
    "    Args:\n",
    "        curp (str): The employee's CURP in YY/MM/DD format.\n",
    "        now (datetime): The current date.\n",
    "\n",
    "    Returns:\n",
    "        int: the age of the employee in years.\n",
    "    \"\"\"\n",
    "\n",
    "    digits_year_curp = re.findall(r'\\d+', dob)\n",
    "    year_of_birth = int(digits_year_curp[0][:2])\n",
    "    month_of_birth = int(digits_year_curp[0][2:4])\n",
    "    day_of_birth = int(digits_year_curp[0][4:6])\n",
    "    if year_of_birth < current_year - 2000:\n",
    "        birthdate = datetime(year_of_birth + 2000, month_of_birth, day_of_birth)\n",
    "        age = now.year - birthdate.year - ((now.month, now.day) < (birthdate.month, birthdate.day))\n",
    "    elif year_of_birth > current_year - 2000:\n",
    "        birthdate = datetime(year_of_birth + 1900, month_of_birth, day_of_birth)\n",
    "        age = now.year - birthdate.year - ((now.month, now.day) < (birthdate.month, birthdate.day))\n",
    "\n",
    "    if age < 0:\n",
    "        raise ValueError(\"La fecha de nacimiento es posterior a la fecha actual.\")\n",
    "\n",
    "    return age"
   ]
  },
  {
   "cell_type": "markdown",
   "metadata": {},
   "source": [
    "### Applying the calculate_age function"
   ]
  },
  {
   "cell_type": "code",
   "execution_count": 72,
   "metadata": {},
   "outputs": [],
   "source": [
    "df_final['edad'] = df_final['dob'].apply(lambda x: calculate_age(x, now))"
   ]
  },
  {
   "cell_type": "markdown",
   "metadata": {},
   "source": [
    "### Setting a constant"
   ]
  },
  {
   "cell_type": "code",
   "execution_count": 73,
   "metadata": {},
   "outputs": [],
   "source": [
    "VAR_CURRENT = 'vigente'"
   ]
  },
  {
   "cell_type": "markdown",
   "metadata": {},
   "source": [
    "### Creating a function that calculates job seniority"
   ]
  },
  {
   "cell_type": "code",
   "execution_count": 74,
   "metadata": {},
   "outputs": [],
   "source": [
    "def calculate_employment_seniority(fila):\n",
    "    \"\"\"\n",
    "    Calculates the length of time an employee has been employed in their current job in months.\n",
    "\n",
    "    Args:\n",
    "        fila (pandas.DataFrame): A DataFrame containing the employee's job history.\n",
    "\n",
    "    Returns:\n",
    "        int: The number of months the employee has been employed in their current job.\n",
    "    \"\"\"\n",
    "\n",
    "\n",
    "    current_index = [i for i, x in enumerate(fila['fechaBaja'])\n",
    "                    if VAR_CURRENT in x.lower().replace(' ', '')]\n",
    "\n",
    "    if len(current_index) > 0:\n",
    "        last_current = current_index[-1]\n",
    "        date = datetime.strptime(fila['fechaAlta'][last_current], '%m/%d/%Y')\n",
    "        current_date = datetime.now()\n",
    "        difference_dates = relativedelta(current_date, date)\n",
    "        age_months = difference_dates.years * 12 + difference_dates.months\n",
    "        return age_months\n",
    "\n",
    "    else:\n",
    "        return 0"
   ]
  },
  {
   "cell_type": "markdown",
   "metadata": {},
   "source": [
    "### Applying the calculate_employment_seniority function"
   ]
  },
  {
   "cell_type": "code",
   "execution_count": 75,
   "metadata": {},
   "outputs": [],
   "source": [
    "df_final['antiguedad_laboral_meses'] = df_final.apply(calculate_employment_seniority, axis=1)"
   ]
  },
  {
   "cell_type": "markdown",
   "metadata": {},
   "source": [
    "### Creating a function that calculates the unemployment time"
   ]
  },
  {
   "cell_type": "code",
   "execution_count": 76,
   "metadata": {},
   "outputs": [],
   "source": [
    "def unemployment_time(table):\n",
    "    \"\"\"\n",
    "    Calculates the length of time someone has been unemployed in months.\n",
    "\n",
    "    Args:\n",
    "        table (pandas.DataFrame): A DataFrame containing the employee's job history.\n",
    "\n",
    "    Returns:\n",
    "        int: The number of months of that person has been unemployed.\n",
    "    \"\"\"\n",
    "    AUX = 0\n",
    "\n",
    "    if len(table['fechaBaja']) > 0:\n",
    "        if any(VAR_CURRENT in x.lower().replace(' ', '') for x in table['fechaBaja']):\n",
    "            return 0\n",
    "        else:\n",
    "            for fecha in table['fechaBaja']:\n",
    "                try:\n",
    "                    date = datetime.strptime(fecha, '%m/%d/%Y')\n",
    "                    break\n",
    "                except ValueError:\n",
    "                    pass\n",
    "            else:\n",
    "                return 0\n",
    "\n",
    "            current_date = datetime.now()\n",
    "            difference_dates = relativedelta(current_date, date)\n",
    "            time_months = difference_dates.years * 12 + difference_dates.months\n",
    "            return time_months\n",
    "    else:\n",
    "        return 0"
   ]
  },
  {
   "cell_type": "markdown",
   "metadata": {},
   "source": [
    "### Applying the unemployment_time function"
   ]
  },
  {
   "cell_type": "code",
   "execution_count": 77,
   "metadata": {},
   "outputs": [],
   "source": [
    "df_final['tiempo_desempleado'] = df_final.apply(unemployment_time, axis=1)"
   ]
  },
  {
   "cell_type": "markdown",
   "metadata": {},
   "source": [
    "### Creating the monthly salary column"
   ]
  },
  {
   "cell_type": "code",
   "execution_count": 78,
   "metadata": {},
   "outputs": [],
   "source": [
    "def get_monthly_salary(lista):\n",
    "    if len(lista) > 0:\n",
    "        salario_mensual = [round(float(valor.replace('$', '').replace(',', '')) * 30.4165 ,2) for valor in lista]\n",
    "        return salario_mensual\n",
    "    else:\n",
    "        return []"
   ]
  },
  {
   "cell_type": "markdown",
   "metadata": {},
   "source": [
    "### Applying calculate_income function"
   ]
  },
  {
   "cell_type": "code",
   "execution_count": 79,
   "metadata": {},
   "outputs": [],
   "source": [
    "df_final['salarioMensual'] = df_final['salarioBaseCotizacion'].apply(get_monthly_salary)"
   ]
  },
  {
   "cell_type": "markdown",
   "metadata": {},
   "source": [
    "### Setting the income column"
   ]
  },
  {
   "cell_type": "code",
   "execution_count": 80,
   "metadata": {},
   "outputs": [],
   "source": [
    "df_final['ingreso'] = 0"
   ]
  },
  {
   "cell_type": "markdown",
   "metadata": {},
   "source": [
    "### Creating a function that calculates the current income"
   ]
  },
  {
   "cell_type": "code",
   "execution_count": 81,
   "metadata": {},
   "outputs": [],
   "source": [
    "def calculate_income(low_date, monthly_salary):\n",
    "    \"\"\"\n",
    "    Calculates a person's current income based on their monthly salary.\n",
    "\n",
    "    Args:\n",
    "        low_date (list): A list of dates indicating when the monthly salary was last updated.\n",
    "        monthly_salary (list): A list of monthly salaries.\n",
    "\n",
    "    Returns:\n",
    "        float: The person's current income (or 0 if the salary information is not current).\n",
    "    \"\"\"\n",
    "\n",
    "    if len(low_date) > 0 :\n",
    "        for i in range(len(low_date)):\n",
    "            if VAR_CURRENT in low_date[i].lower():\n",
    "                return float(monthly_salary[i])\n",
    "        else:\n",
    "            return 0\n",
    "    else:\n",
    "        return 0\n",
    "\n",
    "\n"
   ]
  },
  {
   "cell_type": "markdown",
   "metadata": {},
   "source": [
    "### Applying the calculate_income function"
   ]
  },
  {
   "cell_type": "code",
   "execution_count": 82,
   "metadata": {},
   "outputs": [],
   "source": [
    "df_final['ingreso'] = df_final.apply(lambda x: calculate_income(x['fechaBaja'],\n",
    "                                                                x['salarioMensual']),\n",
    "                                    axis=1)"
   ]
  },
  {
   "cell_type": "code",
   "execution_count": 83,
   "metadata": {},
   "outputs": [
    {
     "data": {
      "text/html": [
       "<div>\n",
       "<style scoped>\n",
       "    .dataframe tbody tr th:only-of-type {\n",
       "        vertical-align: middle;\n",
       "    }\n",
       "\n",
       "    .dataframe tbody tr th {\n",
       "        vertical-align: top;\n",
       "    }\n",
       "\n",
       "    .dataframe thead th {\n",
       "        text-align: right;\n",
       "    }\n",
       "</style>\n",
       "<table border=\"1\" class=\"dataframe\">\n",
       "  <thead>\n",
       "    <tr style=\"text-align: right;\">\n",
       "      <th></th>\n",
       "      <th>curp</th>\n",
       "      <th>dob</th>\n",
       "      <th>semanasCotizadas</th>\n",
       "      <th>fechaAlta</th>\n",
       "      <th>fechaBaja</th>\n",
       "      <th>salarioBaseCotizacion</th>\n",
       "      <th>nombrePatron</th>\n",
       "      <th>entidadFederativa</th>\n",
       "      <th>edad</th>\n",
       "      <th>antiguedad_laboral_meses</th>\n",
       "      <th>tiempo_desempleado</th>\n",
       "      <th>salarioMensual</th>\n",
       "      <th>ingreso</th>\n",
       "    </tr>\n",
       "  </thead>\n",
       "  <tbody>\n",
       "    <tr>\n",
       "      <th>0</th>\n",
       "      <td>015c5728cede59dd3be1c946a576420d64fcf195a31b3d...</td>\n",
       "      <td>820504</td>\n",
       "      <td>0</td>\n",
       "      <td>[]</td>\n",
       "      <td>[]</td>\n",
       "      <td>[]</td>\n",
       "      <td>[]</td>\n",
       "      <td>NaN</td>\n",
       "      <td>41</td>\n",
       "      <td>0</td>\n",
       "      <td>0</td>\n",
       "      <td>[]</td>\n",
       "      <td>0.00</td>\n",
       "    </tr>\n",
       "    <tr>\n",
       "      <th>1</th>\n",
       "      <td>139213ea34080bbd7886df37978cc0e165b2a0843ec397...</td>\n",
       "      <td>961204</td>\n",
       "      <td>0</td>\n",
       "      <td>[]</td>\n",
       "      <td>[]</td>\n",
       "      <td>[]</td>\n",
       "      <td>[]</td>\n",
       "      <td>NaN</td>\n",
       "      <td>26</td>\n",
       "      <td>0</td>\n",
       "      <td>0</td>\n",
       "      <td>[]</td>\n",
       "      <td>0.00</td>\n",
       "    </tr>\n",
       "    <tr>\n",
       "      <th>2</th>\n",
       "      <td>93b274ef0ad44adb14e5a792d53c89c5a3d1bfd29d6215...</td>\n",
       "      <td>830115</td>\n",
       "      <td>0</td>\n",
       "      <td>[]</td>\n",
       "      <td>[]</td>\n",
       "      <td>[]</td>\n",
       "      <td>[]</td>\n",
       "      <td>NaN</td>\n",
       "      <td>40</td>\n",
       "      <td>0</td>\n",
       "      <td>0</td>\n",
       "      <td>[]</td>\n",
       "      <td>0.00</td>\n",
       "    </tr>\n",
       "    <tr>\n",
       "      <th>3</th>\n",
       "      <td>f11a33818c5519df12b0b3c1662a805f3587375ce84db8...</td>\n",
       "      <td>700823</td>\n",
       "      <td>0</td>\n",
       "      <td>[]</td>\n",
       "      <td>[]</td>\n",
       "      <td>[]</td>\n",
       "      <td>[]</td>\n",
       "      <td>NaN</td>\n",
       "      <td>52</td>\n",
       "      <td>0</td>\n",
       "      <td>0</td>\n",
       "      <td>[]</td>\n",
       "      <td>0.00</td>\n",
       "    </tr>\n",
       "    <tr>\n",
       "      <th>4</th>\n",
       "      <td>0c3c4215a70e780e6a6e1b4de18934c9da6f128a4bd3ae...</td>\n",
       "      <td>050515</td>\n",
       "      <td>0</td>\n",
       "      <td>[]</td>\n",
       "      <td>[]</td>\n",
       "      <td>[]</td>\n",
       "      <td>[]</td>\n",
       "      <td>NaN</td>\n",
       "      <td>18</td>\n",
       "      <td>0</td>\n",
       "      <td>0</td>\n",
       "      <td>[]</td>\n",
       "      <td>0.00</td>\n",
       "    </tr>\n",
       "    <tr>\n",
       "      <th>...</th>\n",
       "      <td>...</td>\n",
       "      <td>...</td>\n",
       "      <td>...</td>\n",
       "      <td>...</td>\n",
       "      <td>...</td>\n",
       "      <td>...</td>\n",
       "      <td>...</td>\n",
       "      <td>...</td>\n",
       "      <td>...</td>\n",
       "      <td>...</td>\n",
       "      <td>...</td>\n",
       "      <td>...</td>\n",
       "      <td>...</td>\n",
       "    </tr>\n",
       "    <tr>\n",
       "      <th>26466</th>\n",
       "      <td>b54e6acec49946f852066e14990ae81c7aafc6e8ea0429...</td>\n",
       "      <td>720319</td>\n",
       "      <td>60</td>\n",
       "      <td>[04/06/2022]</td>\n",
       "      <td>[Vigente]</td>\n",
       "      <td>[$365.92]</td>\n",
       "      <td>[COPLASCORP]</td>\n",
       "      <td>[CHIHUAHUA]</td>\n",
       "      <td>51</td>\n",
       "      <td>15</td>\n",
       "      <td>0</td>\n",
       "      <td>[11130.01]</td>\n",
       "      <td>11130.01</td>\n",
       "    </tr>\n",
       "    <tr>\n",
       "      <th>26467</th>\n",
       "      <td>6ed5ca37cf961f87c6592d6bb8dbcb5264317a6b22bad5...</td>\n",
       "      <td>851223</td>\n",
       "      <td>27</td>\n",
       "      <td>[01/08/2021, 10/23/2019, 09/26/2017, 04/01/200...</td>\n",
       "      <td>[02/02/2021, 12/18/2019, 11/09/2017, 04/19/200...</td>\n",
       "      <td>[$150, $195.53, $290.82, $40.03, $41.91, $40.0...</td>\n",
       "      <td>[AEME ASESORES EN MERCADOTECNIA, SERVICIOS OPE...</td>\n",
       "      <td>[COAHUILA DE ZARAGOZA, COAHUILA DE ZARAGOZA, C...</td>\n",
       "      <td>37</td>\n",
       "      <td>0</td>\n",
       "      <td>29</td>\n",
       "      <td>[4562.47, 5947.34, 8845.73, 1217.57, 1274.76, ...</td>\n",
       "      <td>0.00</td>\n",
       "    </tr>\n",
       "    <tr>\n",
       "      <th>26468</th>\n",
       "      <td>31ed11cedba035077fc99748f298a60f252d60d7c51f5c...</td>\n",
       "      <td>870830</td>\n",
       "      <td>572</td>\n",
       "      <td>[08/24/2022, 08/16/2022, 08/01/2022, 02/08/202...</td>\n",
       "      <td>[12/26/2022, 09/16/2022, 08/15/2022, 04/07/202...</td>\n",
       "      <td>[$443.05, $190.23, $190.23, $180.68, $563.5, $...</td>\n",
       "      <td>[CORPORATIVO BORO, BRAVO SPIRITS, BRAVO SPIRIT...</td>\n",
       "      <td>[JALISCO, MÉXICO, HIDALGO, MÉXICO, DISTRITO FE...</td>\n",
       "      <td>35</td>\n",
       "      <td>0</td>\n",
       "      <td>6</td>\n",
       "      <td>[13476.03, 5786.13, 5786.13, 5495.65, 17139.7,...</td>\n",
       "      <td>0.00</td>\n",
       "    </tr>\n",
       "    <tr>\n",
       "      <th>26469</th>\n",
       "      <td>5047618e4107aad5ede8573aaec99881eef896747aaf42...</td>\n",
       "      <td>790619</td>\n",
       "      <td>1097</td>\n",
       "      <td>[12/16/2022, 12/12/2022, 11/01/2022, 07/16/202...</td>\n",
       "      <td>[Vigente, 12/15/2022, 12/08/2022, 09/06/2022, ...</td>\n",
       "      <td>[$1294.15, $838.36, $530.85, $1437.08, $704.82...</td>\n",
       "      <td>[INX INTERNATIONAL DE MEXICO, SAVARIA MEXICO, ...</td>\n",
       "      <td>[QUERÉTARO, QUERÉTARO, DISTRITO FEDERAL, NUEVO...</td>\n",
       "      <td>44</td>\n",
       "      <td>7</td>\n",
       "      <td>0</td>\n",
       "      <td>[39363.51, 25499.98, 16146.6, 43710.94, 21438....</td>\n",
       "      <td>39363.51</td>\n",
       "    </tr>\n",
       "    <tr>\n",
       "      <th>26470</th>\n",
       "      <td>46f99fabb953ef1d72cb36bd7ec977160f5b94ac4bd612...</td>\n",
       "      <td>930411</td>\n",
       "      <td>428</td>\n",
       "      <td>[04/10/2019, 05/31/2012, 03/23/2012]</td>\n",
       "      <td>[Vigente, 05/27/2016, 04/16/2012]</td>\n",
       "      <td>[$355.73, $180.53, $90]</td>\n",
       "      <td>[DENSO MEXICO, SEGLO OPERACIONES LOGISTICAS, D...</td>\n",
       "      <td>[GUANAJUATO, GUANAJUATO, GUANAJUATO]</td>\n",
       "      <td>30</td>\n",
       "      <td>51</td>\n",
       "      <td>0</td>\n",
       "      <td>[10820.06, 5491.09, 2737.49]</td>\n",
       "      <td>10820.06</td>\n",
       "    </tr>\n",
       "  </tbody>\n",
       "</table>\n",
       "<p>26471 rows × 13 columns</p>\n",
       "</div>"
      ],
      "text/plain": [
       "                                                    curp     dob  \\\n",
       "0      015c5728cede59dd3be1c946a576420d64fcf195a31b3d...  820504   \n",
       "1      139213ea34080bbd7886df37978cc0e165b2a0843ec397...  961204   \n",
       "2      93b274ef0ad44adb14e5a792d53c89c5a3d1bfd29d6215...  830115   \n",
       "3      f11a33818c5519df12b0b3c1662a805f3587375ce84db8...  700823   \n",
       "4      0c3c4215a70e780e6a6e1b4de18934c9da6f128a4bd3ae...  050515   \n",
       "...                                                  ...     ...   \n",
       "26466  b54e6acec49946f852066e14990ae81c7aafc6e8ea0429...  720319   \n",
       "26467  6ed5ca37cf961f87c6592d6bb8dbcb5264317a6b22bad5...  851223   \n",
       "26468  31ed11cedba035077fc99748f298a60f252d60d7c51f5c...  870830   \n",
       "26469  5047618e4107aad5ede8573aaec99881eef896747aaf42...  790619   \n",
       "26470  46f99fabb953ef1d72cb36bd7ec977160f5b94ac4bd612...  930411   \n",
       "\n",
       "      semanasCotizadas                                          fechaAlta  \\\n",
       "0                    0                                                 []   \n",
       "1                    0                                                 []   \n",
       "2                    0                                                 []   \n",
       "3                    0                                                 []   \n",
       "4                    0                                                 []   \n",
       "...                ...                                                ...   \n",
       "26466               60                                       [04/06/2022]   \n",
       "26467               27  [01/08/2021, 10/23/2019, 09/26/2017, 04/01/200...   \n",
       "26468              572  [08/24/2022, 08/16/2022, 08/01/2022, 02/08/202...   \n",
       "26469             1097  [12/16/2022, 12/12/2022, 11/01/2022, 07/16/202...   \n",
       "26470              428               [04/10/2019, 05/31/2012, 03/23/2012]   \n",
       "\n",
       "                                               fechaBaja  \\\n",
       "0                                                     []   \n",
       "1                                                     []   \n",
       "2                                                     []   \n",
       "3                                                     []   \n",
       "4                                                     []   \n",
       "...                                                  ...   \n",
       "26466                                          [Vigente]   \n",
       "26467  [02/02/2021, 12/18/2019, 11/09/2017, 04/19/200...   \n",
       "26468  [12/26/2022, 09/16/2022, 08/15/2022, 04/07/202...   \n",
       "26469  [Vigente, 12/15/2022, 12/08/2022, 09/06/2022, ...   \n",
       "26470                  [Vigente, 05/27/2016, 04/16/2012]   \n",
       "\n",
       "                                   salarioBaseCotizacion  \\\n",
       "0                                                     []   \n",
       "1                                                     []   \n",
       "2                                                     []   \n",
       "3                                                     []   \n",
       "4                                                     []   \n",
       "...                                                  ...   \n",
       "26466                                          [$365.92]   \n",
       "26467  [$150, $195.53, $290.82, $40.03, $41.91, $40.0...   \n",
       "26468  [$443.05, $190.23, $190.23, $180.68, $563.5, $...   \n",
       "26469  [$1294.15, $838.36, $530.85, $1437.08, $704.82...   \n",
       "26470                            [$355.73, $180.53, $90]   \n",
       "\n",
       "                                            nombrePatron  \\\n",
       "0                                                     []   \n",
       "1                                                     []   \n",
       "2                                                     []   \n",
       "3                                                     []   \n",
       "4                                                     []   \n",
       "...                                                  ...   \n",
       "26466                                       [COPLASCORP]   \n",
       "26467  [AEME ASESORES EN MERCADOTECNIA, SERVICIOS OPE...   \n",
       "26468  [CORPORATIVO BORO, BRAVO SPIRITS, BRAVO SPIRIT...   \n",
       "26469  [INX INTERNATIONAL DE MEXICO, SAVARIA MEXICO, ...   \n",
       "26470  [DENSO MEXICO, SEGLO OPERACIONES LOGISTICAS, D...   \n",
       "\n",
       "                                       entidadFederativa  edad  \\\n",
       "0                                                    NaN    41   \n",
       "1                                                    NaN    26   \n",
       "2                                                    NaN    40   \n",
       "3                                                    NaN    52   \n",
       "4                                                    NaN    18   \n",
       "...                                                  ...   ...   \n",
       "26466                                        [CHIHUAHUA]    51   \n",
       "26467  [COAHUILA DE ZARAGOZA, COAHUILA DE ZARAGOZA, C...    37   \n",
       "26468  [JALISCO, MÉXICO, HIDALGO, MÉXICO, DISTRITO FE...    35   \n",
       "26469  [QUERÉTARO, QUERÉTARO, DISTRITO FEDERAL, NUEVO...    44   \n",
       "26470               [GUANAJUATO, GUANAJUATO, GUANAJUATO]    30   \n",
       "\n",
       "       antiguedad_laboral_meses  tiempo_desempleado  \\\n",
       "0                             0                   0   \n",
       "1                             0                   0   \n",
       "2                             0                   0   \n",
       "3                             0                   0   \n",
       "4                             0                   0   \n",
       "...                         ...                 ...   \n",
       "26466                        15                   0   \n",
       "26467                         0                  29   \n",
       "26468                         0                   6   \n",
       "26469                         7                   0   \n",
       "26470                        51                   0   \n",
       "\n",
       "                                          salarioMensual   ingreso  \n",
       "0                                                     []      0.00  \n",
       "1                                                     []      0.00  \n",
       "2                                                     []      0.00  \n",
       "3                                                     []      0.00  \n",
       "4                                                     []      0.00  \n",
       "...                                                  ...       ...  \n",
       "26466                                         [11130.01]  11130.01  \n",
       "26467  [4562.47, 5947.34, 8845.73, 1217.57, 1274.76, ...      0.00  \n",
       "26468  [13476.03, 5786.13, 5786.13, 5495.65, 17139.7,...      0.00  \n",
       "26469  [39363.51, 25499.98, 16146.6, 43710.94, 21438....  39363.51  \n",
       "26470                       [10820.06, 5491.09, 2737.49]  10820.06  \n",
       "\n",
       "[26471 rows x 13 columns]"
      ]
     },
     "execution_count": 83,
     "metadata": {},
     "output_type": "execute_result"
    }
   ],
   "source": [
    "df_final"
   ]
  },
  {
   "cell_type": "markdown",
   "metadata": {},
   "source": [
    "### Establishing constants to calculate retirement"
   ]
  },
  {
   "cell_type": "code",
   "execution_count": 84,
   "metadata": {},
   "outputs": [],
   "source": [
    "RETIREMENT_AGE = 65\n",
    "RETIREMENT_WEEKS = 1500"
   ]
  },
  {
   "cell_type": "code",
   "execution_count": 85,
   "metadata": {},
   "outputs": [],
   "source": [
    "df_final['semanasCotizadas'] = df_final['semanasCotizadas'].astype(int)"
   ]
  },
  {
   "cell_type": "markdown",
   "metadata": {},
   "source": [
    "### Creating a function that informs if someone is retired or not"
   ]
  },
  {
   "cell_type": "code",
   "execution_count": 86,
   "metadata": {},
   "outputs": [],
   "source": [
    "def calculate_retirement(age, listed_weeks, income):\n",
    "    \"\"\"\n",
    "    Determines whether a person is eligible for a pension based on their age and number of weeks worked.\n",
    "\n",
    "    Args:\n",
    "        age (int): The person's age in years.\n",
    "        listed_weeks (int): The number of weeks the person has worked.\n",
    "\n",
    "    Returns:\n",
    "        int: 1 if the person is eligible for a pension, 0 otherwise.\n",
    "    \"\"\"\n",
    "    if income == 0:\n",
    "        return int(age >= RETIREMENT_AGE and listed_weeks >= RETIREMENT_WEEKS)\n",
    "    else:\n",
    "        return 0"
   ]
  },
  {
   "cell_type": "markdown",
   "metadata": {},
   "source": [
    "### Applying the calculate_pensioner function"
   ]
  },
  {
   "cell_type": "code",
   "execution_count": 87,
   "metadata": {},
   "outputs": [],
   "source": [
    "df_final['jubilado'] = df_final.apply(lambda row: calculate_retirement(int(row['edad']),\n",
    "                                                                    int(row['semanasCotizadas']),\n",
    "                                                                    int(row['ingreso'])),\n",
    "                                    axis=1)"
   ]
  },
  {
   "cell_type": "code",
   "execution_count": 88,
   "metadata": {},
   "outputs": [],
   "source": [
    "def time_worked(start_dates, end_dates):\n",
    "    \"\"\"\n",
    "    Calculate the difference in months between two lists of dates in the format \"month/year\".\n",
    "\n",
    "    Args:\n",
    "        start_dates (list): A list of start dates in the format \"month/year\".\n",
    "        end_dates (list): A list of end dates in the format \"month/year\".\n",
    "\n",
    "    Returns:\n",
    "        list: A list of integers representing the difference in months between each pair of start and end dates.\n",
    "    \"\"\"\n",
    "    months_list = []\n",
    "    for start, end in zip(start_dates, end_dates):\n",
    "        try:\n",
    "            start_date = datetime.strptime(start, '%m/%d/%Y')\n",
    "            end_date = datetime.strptime(end, '%m/%d/%Y')\n",
    "        except ValueError:\n",
    "            try:\n",
    "                start_date = datetime.strptime(start, '%d/%m/%Y')\n",
    "                end_date = datetime.strptime(end, '%d/%m/%Y')\n",
    "            except ValueError:\n",
    "                try:\n",
    "                    start_date = datetime.strptime(start, '%Y-%m-%d')\n",
    "                    end_date = datetime.strptime(end, '%Y-%m-%d')\n",
    "                except ValueError:\n",
    "                    start_date = datetime.strptime(start, '%m-%d-%Y')\n",
    "                    end_date = datetime.strptime(end, '%m-%d-%Y')\n",
    "        months = (end_date.year - start_date.year) * 12 + (end_date.month - start_date.month)\n",
    "        months_list.append(months)\n",
    "\n",
    "    return months_list"
   ]
  },
  {
   "cell_type": "code",
   "execution_count": 89,
   "metadata": {},
   "outputs": [],
   "source": [
    "df_final['tiempo_trabajado'] = df_final.apply(lambda row: time_worked(row['fechaAlta'],\n",
    "                                                                    row['fechaBaja'])\n",
    "                                            if row['jubilado'] == 1 else [], axis=1)"
   ]
  },
  {
   "cell_type": "code",
   "execution_count": 90,
   "metadata": {},
   "outputs": [],
   "source": [
    "def retired_wages(departure_date, monthly_salary):\n",
    "    \"\"\"\n",
    "    Returns a list of the monthly salaries that a person has earned in the last 3 years.\n",
    "\n",
    "    Args:\n",
    "        admission_date (list): A list of dates indicating when the person started each job.\n",
    "        monthly_salary (list): A list of monthly salaries earned by the person.\n",
    "\n",
    "    Returns:\n",
    "        list: A list of monthly salaries earned by the retired person in the last 10 years.\n",
    "    \"\"\"\n",
    "\n",
    "    wages = []\n",
    "    if departure_date:\n",
    "        min_year = max([int(date.split('/')[-1]) for date in departure_date]) - 10\n",
    "    else:\n",
    "        min_year = current_year - 10\n",
    "\n",
    "    for date, salary in zip(departure_date, monthly_salary):\n",
    "        anio = int(date.split('/')[-1])\n",
    "        if anio >= min_year:\n",
    "            wages.append(salary)\n",
    "\n",
    "    return wages"
   ]
  },
  {
   "cell_type": "code",
   "execution_count": 91,
   "metadata": {},
   "outputs": [],
   "source": [
    "df_final['salarios_jubilacion'] = df_final.apply(lambda row: retired_wages(row['fechaBaja'],\n",
    "                                                                        row['salarioMensual'])\n",
    "                                                if row['jubilado'] == 1 else [], axis=1)"
   ]
  },
  {
   "cell_type": "markdown",
   "metadata": {},
   "source": [
    "### Creating a function that calculates the income of a retired person"
   ]
  },
  {
   "cell_type": "code",
   "execution_count": 92,
   "metadata": {},
   "outputs": [],
   "source": [
    "def retired_income(salaries):\n",
    "    \"\"\"\n",
    "    Calculates the average salary of retired individuals in a given DataFrame.\n",
    "\n",
    "    Args:\n",
    "        salaries (list): The name of the column containing the lists of salaries.\n",
    "\n",
    "    Returns:\n",
    "        float: The average salary of retired individuals in the specified column.\n",
    "    \"\"\"\n",
    "\n",
    "    try:\n",
    "        return round(sum(salaries) / len(salaries), 2)\n",
    "    except ZeroDivisionError:\n",
    "        return 0"
   ]
  },
  {
   "cell_type": "markdown",
   "metadata": {},
   "source": [
    "### Applying the retired_income function"
   ]
  },
  {
   "cell_type": "code",
   "execution_count": 93,
   "metadata": {},
   "outputs": [],
   "source": [
    "df_final['ingreso'] = df_final.apply(lambda row: retired_income(row['salarios_jubilacion'])\n",
    "                                    if row['jubilado'] == 1 else row['ingreso'], axis=1)"
   ]
  },
  {
   "cell_type": "markdown",
   "metadata": {},
   "source": [
    "### Creating a constant"
   ]
  },
  {
   "cell_type": "code",
   "execution_count": 94,
   "metadata": {},
   "outputs": [],
   "source": [
    "YEARS_TO_VERIFY = 5"
   ]
  },
  {
   "cell_type": "markdown",
   "metadata": {},
   "source": [
    "### Calculating the current year minus the previous constant"
   ]
  },
  {
   "cell_type": "code",
   "execution_count": 95,
   "metadata": {},
   "outputs": [],
   "source": [
    "\n",
    "current_year_less_5 = current_year - YEARS_TO_VERIFY"
   ]
  },
  {
   "cell_type": "markdown",
   "metadata": {},
   "source": [
    "### Creating function that calculates the number of jobs in the last 5 years"
   ]
  },
  {
   "cell_type": "code",
   "execution_count": 96,
   "metadata": {},
   "outputs": [],
   "source": [
    "def jobs_last_5_years(dates_in, dates_out, seniority, employer_names):\n",
    "    \"\"\"\n",
    "    Calculates the number of jobs a person has had\n",
    "    in the last 5 years based on the dates they ended,\n",
    "    considering the employer names.\n",
    "\n",
    "    Args:\n",
    "        dates_in (list): A list of dates indicating when the person's jobs started.\n",
    "        dates_out (list): A list of dates indicating when the person's jobs ended.\n",
    "        seniority (int): The person's seniority (months of experience).\n",
    "        employer_names (list): A list of employer names.\n",
    "\n",
    "    Returns:\n",
    "        int: The number of jobs the person had in the last 5 years.\n",
    "    \"\"\"\n",
    "    last_five_years = datetime.now() - timedelta(days=5 * 365)\n",
    "    num_jobs = 0\n",
    "    previous_employer = None\n",
    "\n",
    "    for i in range(len(dates_out)):\n",
    "        if VAR_CURRENT in dates_out[i].lower():\n",
    "            date = datetime.strptime(dates_in[i], '%m/%d/%Y')\n",
    "        else:\n",
    "            date = datetime.strptime(dates_out[i], '%m/%d/%Y')\n",
    "\n",
    "        if last_five_years <= date <= datetime.now():\n",
    "            if i == 0 or employer_names[i] != previous_employer:\n",
    "                num_jobs += 1\n",
    "            previous_employer = employer_names[i]\n",
    "\n",
    "    if num_jobs == 0 and seniority > 0:\n",
    "        num_jobs += 1\n",
    "\n",
    "    return num_jobs"
   ]
  },
  {
   "cell_type": "markdown",
   "metadata": {},
   "source": [
    "### Applying the jobs_last_5_years function"
   ]
  },
  {
   "cell_type": "code",
   "execution_count": 97,
   "metadata": {},
   "outputs": [],
   "source": [
    "df_final['trabajos_ultimos_5'] = df_final.apply(lambda row: jobs_last_5_years(row['fechaAlta'],\n",
    "                                                row['fechaBaja'],row['antiguedad_laboral_meses'],\n",
    "                                                row['nombrePatron']),\n",
    "                                                axis=1)"
   ]
  },
  {
   "cell_type": "markdown",
   "metadata": {},
   "source": [
    "### Creating function that calculates salaries in the last 3 years"
   ]
  },
  {
   "cell_type": "code",
   "execution_count": 98,
   "metadata": {},
   "outputs": [],
   "source": [
    "def wages_3_last_years(admission_date, monthly_salary):\n",
    "    \"\"\"\n",
    "    Returns a list of the monthly salaries that a person has earned in the last 3 years.\n",
    "\n",
    "    Args:\n",
    "        admission_date (list): A list of dates indicating when the person started each job.\n",
    "        monthly_salary (list): A list of monthly salaries earned by the person.\n",
    "\n",
    "    Returns:\n",
    "        list: A list of monthly salaries earned by the person in the last 3 years.\n",
    "    \"\"\"\n",
    "\n",
    "    wages = []\n",
    "\n",
    "    for date, salary in zip(admission_date, monthly_salary):\n",
    "        anio = int(date.split('/')[-1])\n",
    "        if anio >= current_year - 3:\n",
    "            wages.append(salary)\n",
    "\n",
    "    return wages\n"
   ]
  },
  {
   "cell_type": "markdown",
   "metadata": {},
   "source": [
    "### Applying the wages_3_last_years function"
   ]
  },
  {
   "cell_type": "code",
   "execution_count": 99,
   "metadata": {},
   "outputs": [],
   "source": [
    "df_final['salarios_ultimos_3_anios'] = df_final.apply(lambda row:\n",
    "                                                    wages_3_last_years(row['fechaAlta'],\n",
    "                                                                        row['salarioMensual']),\n",
    "                                                    axis=1)\n"
   ]
  },
  {
   "cell_type": "markdown",
   "metadata": {},
   "source": [
    "### Creating a function that calculates income growth"
   ]
  },
  {
   "cell_type": "code",
   "execution_count": 100,
   "metadata": {},
   "outputs": [],
   "source": [
    "def income_growth(wages , dates):\n",
    "    \"\"\"\n",
    "    In this function, the income of the last 3 years is read\n",
    "    and the percentage growth of the same is returned.\n",
    "\n",
    "    Args:\n",
    "        wages (list): salaries in the last 3 years\n",
    "\n",
    "    Returns:\n",
    "        float: describes the growth income in the last 3 years\n",
    "    \"\"\"\n",
    "\n",
    "    if len(dates) > 0 and VAR_CURRENT in dates[0].lower():\n",
    "        numerical_salaries = []\n",
    "        for salary in wages:\n",
    "\n",
    "            if isinstance(salary, (int, float)):\n",
    "                numerical_salaries.append(salary)\n",
    "\n",
    "            elif isinstance(salary, str):\n",
    "                salary_without_dollar = salary.replace('$', '')\n",
    "\n",
    "                try:\n",
    "                    salary_numeric = float(salary_without_dollar)\n",
    "                    numerical_salaries.append(salary_numeric)\n",
    "\n",
    "                except ValueError as er:\n",
    "                    print(er)\n",
    "\n",
    "        if len(numerical_salaries) >= 2:\n",
    "            start_average_salary = numerical_salaries[-1]\n",
    "            final_average_salary = numerical_salaries[0]\n",
    "            growth = (final_average_salary - start_average_salary) / start_average_salary * 100\n",
    "\n",
    "        else:\n",
    "            growth = 0\n",
    "\n",
    "        return round(growth,2)\n",
    "\n",
    "    else:\n",
    "        growth = 0\n",
    "        return round(growth,2)"
   ]
  },
  {
   "cell_type": "markdown",
   "metadata": {},
   "source": [
    "### Applying the income_growth function"
   ]
  },
  {
   "cell_type": "code",
   "execution_count": 101,
   "metadata": {},
   "outputs": [],
   "source": [
    "df_final['crecimiento_ingreso']=df_final.apply(lambda x:income_growth(x['salarios_ultimos_3_anios'],\n",
    "                                                                        x['fechaBaja']), axis=1)"
   ]
  },
  {
   "cell_type": "markdown",
   "metadata": {},
   "source": [
    "### Calculating the current location of everyone in the dataframe"
   ]
  },
  {
   "cell_type": "code",
   "execution_count": 102,
   "metadata": {},
   "outputs": [],
   "source": [
    "def current_place(place, dates):\n",
    "    \"\"\"\n",
    "    Using the work history we set the current State where the person lives\n",
    "\n",
    "    Args:\n",
    "        place (list): States where the employee has worked\n",
    "        dates (list): Dates to verify if the employee is working or not\n",
    "\n",
    "    Returns:\n",
    "        String: Current place of the person\n",
    "    \"\"\"\n",
    "    if len(dates) > 0:\n",
    "        for i in range(len(dates)):\n",
    "            if VAR_CURRENT in dates[i].lower():\n",
    "                if isinstance(place, list):\n",
    "                    return place[i]\n",
    "                else:\n",
    "                    return place\n",
    "        if isinstance(place, list):\n",
    "            return place[0]\n",
    "        else:\n",
    "            return None\n",
    "    else:\n",
    "        return None"
   ]
  },
  {
   "cell_type": "markdown",
   "metadata": {},
   "source": [
    "### Applying the current_place function"
   ]
  },
  {
   "cell_type": "code",
   "execution_count": 103,
   "metadata": {},
   "outputs": [],
   "source": [
    "df_final['lugar_actual'] = df_final.apply(lambda row:current_place(row['entidadFederativa'],\n",
    "                                                                    row['fechaBaja']), axis=1)"
   ]
  },
  {
   "cell_type": "code",
   "execution_count": 104,
   "metadata": {},
   "outputs": [
    {
     "data": {
      "text/html": [
       "<div>\n",
       "<style scoped>\n",
       "    .dataframe tbody tr th:only-of-type {\n",
       "        vertical-align: middle;\n",
       "    }\n",
       "\n",
       "    .dataframe tbody tr th {\n",
       "        vertical-align: top;\n",
       "    }\n",
       "\n",
       "    .dataframe thead th {\n",
       "        text-align: right;\n",
       "    }\n",
       "</style>\n",
       "<table border=\"1\" class=\"dataframe\">\n",
       "  <thead>\n",
       "    <tr style=\"text-align: right;\">\n",
       "      <th></th>\n",
       "      <th>curp</th>\n",
       "      <th>dob</th>\n",
       "      <th>semanasCotizadas</th>\n",
       "      <th>fechaAlta</th>\n",
       "      <th>fechaBaja</th>\n",
       "      <th>salarioBaseCotizacion</th>\n",
       "      <th>nombrePatron</th>\n",
       "      <th>entidadFederativa</th>\n",
       "      <th>edad</th>\n",
       "      <th>antiguedad_laboral_meses</th>\n",
       "      <th>tiempo_desempleado</th>\n",
       "      <th>salarioMensual</th>\n",
       "      <th>ingreso</th>\n",
       "      <th>jubilado</th>\n",
       "      <th>tiempo_trabajado</th>\n",
       "      <th>salarios_jubilacion</th>\n",
       "      <th>trabajos_ultimos_5</th>\n",
       "      <th>salarios_ultimos_3_anios</th>\n",
       "      <th>crecimiento_ingreso</th>\n",
       "      <th>lugar_actual</th>\n",
       "    </tr>\n",
       "  </thead>\n",
       "  <tbody>\n",
       "    <tr>\n",
       "      <th>0</th>\n",
       "      <td>015c5728cede59dd3be1c946a576420d64fcf195a31b3d...</td>\n",
       "      <td>820504</td>\n",
       "      <td>0</td>\n",
       "      <td>[]</td>\n",
       "      <td>[]</td>\n",
       "      <td>[]</td>\n",
       "      <td>[]</td>\n",
       "      <td>NaN</td>\n",
       "      <td>41</td>\n",
       "      <td>0</td>\n",
       "      <td>0</td>\n",
       "      <td>[]</td>\n",
       "      <td>0.00</td>\n",
       "      <td>0</td>\n",
       "      <td>[]</td>\n",
       "      <td>[]</td>\n",
       "      <td>0</td>\n",
       "      <td>[]</td>\n",
       "      <td>0.00</td>\n",
       "      <td>None</td>\n",
       "    </tr>\n",
       "    <tr>\n",
       "      <th>1</th>\n",
       "      <td>139213ea34080bbd7886df37978cc0e165b2a0843ec397...</td>\n",
       "      <td>961204</td>\n",
       "      <td>0</td>\n",
       "      <td>[]</td>\n",
       "      <td>[]</td>\n",
       "      <td>[]</td>\n",
       "      <td>[]</td>\n",
       "      <td>NaN</td>\n",
       "      <td>26</td>\n",
       "      <td>0</td>\n",
       "      <td>0</td>\n",
       "      <td>[]</td>\n",
       "      <td>0.00</td>\n",
       "      <td>0</td>\n",
       "      <td>[]</td>\n",
       "      <td>[]</td>\n",
       "      <td>0</td>\n",
       "      <td>[]</td>\n",
       "      <td>0.00</td>\n",
       "      <td>None</td>\n",
       "    </tr>\n",
       "    <tr>\n",
       "      <th>2</th>\n",
       "      <td>93b274ef0ad44adb14e5a792d53c89c5a3d1bfd29d6215...</td>\n",
       "      <td>830115</td>\n",
       "      <td>0</td>\n",
       "      <td>[]</td>\n",
       "      <td>[]</td>\n",
       "      <td>[]</td>\n",
       "      <td>[]</td>\n",
       "      <td>NaN</td>\n",
       "      <td>40</td>\n",
       "      <td>0</td>\n",
       "      <td>0</td>\n",
       "      <td>[]</td>\n",
       "      <td>0.00</td>\n",
       "      <td>0</td>\n",
       "      <td>[]</td>\n",
       "      <td>[]</td>\n",
       "      <td>0</td>\n",
       "      <td>[]</td>\n",
       "      <td>0.00</td>\n",
       "      <td>None</td>\n",
       "    </tr>\n",
       "    <tr>\n",
       "      <th>3</th>\n",
       "      <td>f11a33818c5519df12b0b3c1662a805f3587375ce84db8...</td>\n",
       "      <td>700823</td>\n",
       "      <td>0</td>\n",
       "      <td>[]</td>\n",
       "      <td>[]</td>\n",
       "      <td>[]</td>\n",
       "      <td>[]</td>\n",
       "      <td>NaN</td>\n",
       "      <td>52</td>\n",
       "      <td>0</td>\n",
       "      <td>0</td>\n",
       "      <td>[]</td>\n",
       "      <td>0.00</td>\n",
       "      <td>0</td>\n",
       "      <td>[]</td>\n",
       "      <td>[]</td>\n",
       "      <td>0</td>\n",
       "      <td>[]</td>\n",
       "      <td>0.00</td>\n",
       "      <td>None</td>\n",
       "    </tr>\n",
       "    <tr>\n",
       "      <th>4</th>\n",
       "      <td>0c3c4215a70e780e6a6e1b4de18934c9da6f128a4bd3ae...</td>\n",
       "      <td>050515</td>\n",
       "      <td>0</td>\n",
       "      <td>[]</td>\n",
       "      <td>[]</td>\n",
       "      <td>[]</td>\n",
       "      <td>[]</td>\n",
       "      <td>NaN</td>\n",
       "      <td>18</td>\n",
       "      <td>0</td>\n",
       "      <td>0</td>\n",
       "      <td>[]</td>\n",
       "      <td>0.00</td>\n",
       "      <td>0</td>\n",
       "      <td>[]</td>\n",
       "      <td>[]</td>\n",
       "      <td>0</td>\n",
       "      <td>[]</td>\n",
       "      <td>0.00</td>\n",
       "      <td>None</td>\n",
       "    </tr>\n",
       "    <tr>\n",
       "      <th>...</th>\n",
       "      <td>...</td>\n",
       "      <td>...</td>\n",
       "      <td>...</td>\n",
       "      <td>...</td>\n",
       "      <td>...</td>\n",
       "      <td>...</td>\n",
       "      <td>...</td>\n",
       "      <td>...</td>\n",
       "      <td>...</td>\n",
       "      <td>...</td>\n",
       "      <td>...</td>\n",
       "      <td>...</td>\n",
       "      <td>...</td>\n",
       "      <td>...</td>\n",
       "      <td>...</td>\n",
       "      <td>...</td>\n",
       "      <td>...</td>\n",
       "      <td>...</td>\n",
       "      <td>...</td>\n",
       "      <td>...</td>\n",
       "    </tr>\n",
       "    <tr>\n",
       "      <th>26466</th>\n",
       "      <td>b54e6acec49946f852066e14990ae81c7aafc6e8ea0429...</td>\n",
       "      <td>720319</td>\n",
       "      <td>60</td>\n",
       "      <td>[04/06/2022]</td>\n",
       "      <td>[Vigente]</td>\n",
       "      <td>[$365.92]</td>\n",
       "      <td>[COPLASCORP]</td>\n",
       "      <td>[CHIHUAHUA]</td>\n",
       "      <td>51</td>\n",
       "      <td>15</td>\n",
       "      <td>0</td>\n",
       "      <td>[11130.01]</td>\n",
       "      <td>11130.01</td>\n",
       "      <td>0</td>\n",
       "      <td>[]</td>\n",
       "      <td>[]</td>\n",
       "      <td>1</td>\n",
       "      <td>[11130.01]</td>\n",
       "      <td>0.00</td>\n",
       "      <td>CHIHUAHUA</td>\n",
       "    </tr>\n",
       "    <tr>\n",
       "      <th>26467</th>\n",
       "      <td>6ed5ca37cf961f87c6592d6bb8dbcb5264317a6b22bad5...</td>\n",
       "      <td>851223</td>\n",
       "      <td>27</td>\n",
       "      <td>[01/08/2021, 10/23/2019, 09/26/2017, 04/01/200...</td>\n",
       "      <td>[02/02/2021, 12/18/2019, 11/09/2017, 04/19/200...</td>\n",
       "      <td>[$150, $195.53, $290.82, $40.03, $41.91, $40.0...</td>\n",
       "      <td>[AEME ASESORES EN MERCADOTECNIA, SERVICIOS OPE...</td>\n",
       "      <td>[COAHUILA DE ZARAGOZA, COAHUILA DE ZARAGOZA, C...</td>\n",
       "      <td>37</td>\n",
       "      <td>0</td>\n",
       "      <td>29</td>\n",
       "      <td>[4562.47, 5947.34, 8845.73, 1217.57, 1274.76, ...</td>\n",
       "      <td>0.00</td>\n",
       "      <td>0</td>\n",
       "      <td>[]</td>\n",
       "      <td>[]</td>\n",
       "      <td>2</td>\n",
       "      <td>[4562.47]</td>\n",
       "      <td>0.00</td>\n",
       "      <td>COAHUILA DE ZARAGOZA</td>\n",
       "    </tr>\n",
       "    <tr>\n",
       "      <th>26468</th>\n",
       "      <td>31ed11cedba035077fc99748f298a60f252d60d7c51f5c...</td>\n",
       "      <td>870830</td>\n",
       "      <td>572</td>\n",
       "      <td>[08/24/2022, 08/16/2022, 08/01/2022, 02/08/202...</td>\n",
       "      <td>[12/26/2022, 09/16/2022, 08/15/2022, 04/07/202...</td>\n",
       "      <td>[$443.05, $190.23, $190.23, $180.68, $563.5, $...</td>\n",
       "      <td>[CORPORATIVO BORO, BRAVO SPIRITS, BRAVO SPIRIT...</td>\n",
       "      <td>[JALISCO, MÉXICO, HIDALGO, MÉXICO, DISTRITO FE...</td>\n",
       "      <td>35</td>\n",
       "      <td>0</td>\n",
       "      <td>6</td>\n",
       "      <td>[13476.03, 5786.13, 5786.13, 5495.65, 17139.7,...</td>\n",
       "      <td>0.00</td>\n",
       "      <td>0</td>\n",
       "      <td>[]</td>\n",
       "      <td>[]</td>\n",
       "      <td>5</td>\n",
       "      <td>[13476.03, 5786.13, 5786.13, 5495.65, 17139.7]</td>\n",
       "      <td>0.00</td>\n",
       "      <td>JALISCO</td>\n",
       "    </tr>\n",
       "    <tr>\n",
       "      <th>26469</th>\n",
       "      <td>5047618e4107aad5ede8573aaec99881eef896747aaf42...</td>\n",
       "      <td>790619</td>\n",
       "      <td>1097</td>\n",
       "      <td>[12/16/2022, 12/12/2022, 11/01/2022, 07/16/202...</td>\n",
       "      <td>[Vigente, 12/15/2022, 12/08/2022, 09/06/2022, ...</td>\n",
       "      <td>[$1294.15, $838.36, $530.85, $1437.08, $704.82...</td>\n",
       "      <td>[INX INTERNATIONAL DE MEXICO, SAVARIA MEXICO, ...</td>\n",
       "      <td>[QUERÉTARO, QUERÉTARO, DISTRITO FEDERAL, NUEVO...</td>\n",
       "      <td>44</td>\n",
       "      <td>7</td>\n",
       "      <td>0</td>\n",
       "      <td>[39363.51, 25499.98, 16146.6, 43710.94, 21438....</td>\n",
       "      <td>39363.51</td>\n",
       "      <td>0</td>\n",
       "      <td>[]</td>\n",
       "      <td>[]</td>\n",
       "      <td>5</td>\n",
       "      <td>[39363.51, 25499.98, 16146.6, 43710.94, 21438.16]</td>\n",
       "      <td>83.61</td>\n",
       "      <td>QUERÉTARO</td>\n",
       "    </tr>\n",
       "    <tr>\n",
       "      <th>26470</th>\n",
       "      <td>46f99fabb953ef1d72cb36bd7ec977160f5b94ac4bd612...</td>\n",
       "      <td>930411</td>\n",
       "      <td>428</td>\n",
       "      <td>[04/10/2019, 05/31/2012, 03/23/2012]</td>\n",
       "      <td>[Vigente, 05/27/2016, 04/16/2012]</td>\n",
       "      <td>[$355.73, $180.53, $90]</td>\n",
       "      <td>[DENSO MEXICO, SEGLO OPERACIONES LOGISTICAS, D...</td>\n",
       "      <td>[GUANAJUATO, GUANAJUATO, GUANAJUATO]</td>\n",
       "      <td>30</td>\n",
       "      <td>51</td>\n",
       "      <td>0</td>\n",
       "      <td>[10820.06, 5491.09, 2737.49]</td>\n",
       "      <td>10820.06</td>\n",
       "      <td>0</td>\n",
       "      <td>[]</td>\n",
       "      <td>[]</td>\n",
       "      <td>1</td>\n",
       "      <td>[]</td>\n",
       "      <td>0.00</td>\n",
       "      <td>GUANAJUATO</td>\n",
       "    </tr>\n",
       "  </tbody>\n",
       "</table>\n",
       "<p>26471 rows × 20 columns</p>\n",
       "</div>"
      ],
      "text/plain": [
       "                                                    curp     dob  \\\n",
       "0      015c5728cede59dd3be1c946a576420d64fcf195a31b3d...  820504   \n",
       "1      139213ea34080bbd7886df37978cc0e165b2a0843ec397...  961204   \n",
       "2      93b274ef0ad44adb14e5a792d53c89c5a3d1bfd29d6215...  830115   \n",
       "3      f11a33818c5519df12b0b3c1662a805f3587375ce84db8...  700823   \n",
       "4      0c3c4215a70e780e6a6e1b4de18934c9da6f128a4bd3ae...  050515   \n",
       "...                                                  ...     ...   \n",
       "26466  b54e6acec49946f852066e14990ae81c7aafc6e8ea0429...  720319   \n",
       "26467  6ed5ca37cf961f87c6592d6bb8dbcb5264317a6b22bad5...  851223   \n",
       "26468  31ed11cedba035077fc99748f298a60f252d60d7c51f5c...  870830   \n",
       "26469  5047618e4107aad5ede8573aaec99881eef896747aaf42...  790619   \n",
       "26470  46f99fabb953ef1d72cb36bd7ec977160f5b94ac4bd612...  930411   \n",
       "\n",
       "       semanasCotizadas                                          fechaAlta  \\\n",
       "0                     0                                                 []   \n",
       "1                     0                                                 []   \n",
       "2                     0                                                 []   \n",
       "3                     0                                                 []   \n",
       "4                     0                                                 []   \n",
       "...                 ...                                                ...   \n",
       "26466                60                                       [04/06/2022]   \n",
       "26467                27  [01/08/2021, 10/23/2019, 09/26/2017, 04/01/200...   \n",
       "26468               572  [08/24/2022, 08/16/2022, 08/01/2022, 02/08/202...   \n",
       "26469              1097  [12/16/2022, 12/12/2022, 11/01/2022, 07/16/202...   \n",
       "26470               428               [04/10/2019, 05/31/2012, 03/23/2012]   \n",
       "\n",
       "                                               fechaBaja  \\\n",
       "0                                                     []   \n",
       "1                                                     []   \n",
       "2                                                     []   \n",
       "3                                                     []   \n",
       "4                                                     []   \n",
       "...                                                  ...   \n",
       "26466                                          [Vigente]   \n",
       "26467  [02/02/2021, 12/18/2019, 11/09/2017, 04/19/200...   \n",
       "26468  [12/26/2022, 09/16/2022, 08/15/2022, 04/07/202...   \n",
       "26469  [Vigente, 12/15/2022, 12/08/2022, 09/06/2022, ...   \n",
       "26470                  [Vigente, 05/27/2016, 04/16/2012]   \n",
       "\n",
       "                                   salarioBaseCotizacion  \\\n",
       "0                                                     []   \n",
       "1                                                     []   \n",
       "2                                                     []   \n",
       "3                                                     []   \n",
       "4                                                     []   \n",
       "...                                                  ...   \n",
       "26466                                          [$365.92]   \n",
       "26467  [$150, $195.53, $290.82, $40.03, $41.91, $40.0...   \n",
       "26468  [$443.05, $190.23, $190.23, $180.68, $563.5, $...   \n",
       "26469  [$1294.15, $838.36, $530.85, $1437.08, $704.82...   \n",
       "26470                            [$355.73, $180.53, $90]   \n",
       "\n",
       "                                            nombrePatron  \\\n",
       "0                                                     []   \n",
       "1                                                     []   \n",
       "2                                                     []   \n",
       "3                                                     []   \n",
       "4                                                     []   \n",
       "...                                                  ...   \n",
       "26466                                       [COPLASCORP]   \n",
       "26467  [AEME ASESORES EN MERCADOTECNIA, SERVICIOS OPE...   \n",
       "26468  [CORPORATIVO BORO, BRAVO SPIRITS, BRAVO SPIRIT...   \n",
       "26469  [INX INTERNATIONAL DE MEXICO, SAVARIA MEXICO, ...   \n",
       "26470  [DENSO MEXICO, SEGLO OPERACIONES LOGISTICAS, D...   \n",
       "\n",
       "                                       entidadFederativa  edad  \\\n",
       "0                                                    NaN    41   \n",
       "1                                                    NaN    26   \n",
       "2                                                    NaN    40   \n",
       "3                                                    NaN    52   \n",
       "4                                                    NaN    18   \n",
       "...                                                  ...   ...   \n",
       "26466                                        [CHIHUAHUA]    51   \n",
       "26467  [COAHUILA DE ZARAGOZA, COAHUILA DE ZARAGOZA, C...    37   \n",
       "26468  [JALISCO, MÉXICO, HIDALGO, MÉXICO, DISTRITO FE...    35   \n",
       "26469  [QUERÉTARO, QUERÉTARO, DISTRITO FEDERAL, NUEVO...    44   \n",
       "26470               [GUANAJUATO, GUANAJUATO, GUANAJUATO]    30   \n",
       "\n",
       "       antiguedad_laboral_meses  tiempo_desempleado  \\\n",
       "0                             0                   0   \n",
       "1                             0                   0   \n",
       "2                             0                   0   \n",
       "3                             0                   0   \n",
       "4                             0                   0   \n",
       "...                         ...                 ...   \n",
       "26466                        15                   0   \n",
       "26467                         0                  29   \n",
       "26468                         0                   6   \n",
       "26469                         7                   0   \n",
       "26470                        51                   0   \n",
       "\n",
       "                                          salarioMensual   ingreso  jubilado  \\\n",
       "0                                                     []      0.00         0   \n",
       "1                                                     []      0.00         0   \n",
       "2                                                     []      0.00         0   \n",
       "3                                                     []      0.00         0   \n",
       "4                                                     []      0.00         0   \n",
       "...                                                  ...       ...       ...   \n",
       "26466                                         [11130.01]  11130.01         0   \n",
       "26467  [4562.47, 5947.34, 8845.73, 1217.57, 1274.76, ...      0.00         0   \n",
       "26468  [13476.03, 5786.13, 5786.13, 5495.65, 17139.7,...      0.00         0   \n",
       "26469  [39363.51, 25499.98, 16146.6, 43710.94, 21438....  39363.51         0   \n",
       "26470                       [10820.06, 5491.09, 2737.49]  10820.06         0   \n",
       "\n",
       "      tiempo_trabajado salarios_jubilacion  trabajos_ultimos_5  \\\n",
       "0                   []                  []                   0   \n",
       "1                   []                  []                   0   \n",
       "2                   []                  []                   0   \n",
       "3                   []                  []                   0   \n",
       "4                   []                  []                   0   \n",
       "...                ...                 ...                 ...   \n",
       "26466               []                  []                   1   \n",
       "26467               []                  []                   2   \n",
       "26468               []                  []                   5   \n",
       "26469               []                  []                   5   \n",
       "26470               []                  []                   1   \n",
       "\n",
       "                                salarios_ultimos_3_anios  crecimiento_ingreso  \\\n",
       "0                                                     []                 0.00   \n",
       "1                                                     []                 0.00   \n",
       "2                                                     []                 0.00   \n",
       "3                                                     []                 0.00   \n",
       "4                                                     []                 0.00   \n",
       "...                                                  ...                  ...   \n",
       "26466                                         [11130.01]                 0.00   \n",
       "26467                                          [4562.47]                 0.00   \n",
       "26468     [13476.03, 5786.13, 5786.13, 5495.65, 17139.7]                 0.00   \n",
       "26469  [39363.51, 25499.98, 16146.6, 43710.94, 21438.16]                83.61   \n",
       "26470                                                 []                 0.00   \n",
       "\n",
       "               lugar_actual  \n",
       "0                      None  \n",
       "1                      None  \n",
       "2                      None  \n",
       "3                      None  \n",
       "4                      None  \n",
       "...                     ...  \n",
       "26466             CHIHUAHUA  \n",
       "26467  COAHUILA DE ZARAGOZA  \n",
       "26468               JALISCO  \n",
       "26469             QUERÉTARO  \n",
       "26470            GUANAJUATO  \n",
       "\n",
       "[26471 rows x 20 columns]"
      ]
     },
     "execution_count": 104,
     "metadata": {},
     "output_type": "execute_result"
    }
   ],
   "source": [
    "df_final"
   ]
  },
  {
   "cell_type": "markdown",
   "metadata": {},
   "source": [
    "### Creating a function that sets the name of the current job"
   ]
  },
  {
   "cell_type": "code",
   "execution_count": 105,
   "metadata": {},
   "outputs": [],
   "source": [
    "def current_job(low_date, job_places):\n",
    "    \"\"\"\n",
    "    Calculates a person's current job name.\n",
    "\n",
    "    Args:\n",
    "        low_date (list): A list of dates indicating when the monthly salary was last updated.\n",
    "        job_places (list): A list of jobs names.\n",
    "\n",
    "    Returns:\n",
    "        str: The person's current jot (or None if the job information is not current).\n",
    "    \"\"\"\n",
    "\n",
    "    if len(low_date) > 0 :\n",
    "        for i in range(len(low_date)):\n",
    "            if VAR_CURRENT in low_date[i].lower():\n",
    "                return job_places[i]\n",
    "        else:\n",
    "            return None\n",
    "    else:\n",
    "        return None"
   ]
  },
  {
   "cell_type": "markdown",
   "metadata": {},
   "source": [
    "### Applying the current_job function"
   ]
  },
  {
   "cell_type": "code",
   "execution_count": 106,
   "metadata": {},
   "outputs": [],
   "source": [
    "df_final['patronActual'] = df_final.apply(lambda x: current_job(x['fechaBaja'],\n",
    "                                                                x['nombrePatron']),\n",
    "                                    axis=1)"
   ]
  },
  {
   "cell_type": "code",
   "execution_count": 107,
   "metadata": {},
   "outputs": [],
   "source": [
    "df_scoring = df_final[['ingreso','antiguedad_laboral_meses','tiempo_desempleado',\n",
    "                    'trabajos_ultimos_5','semanasCotizadas','edad','crecimiento_ingreso',\n",
    "                    'lugar_actual','patronActual', 'jubilado']]"
   ]
  },
  {
   "cell_type": "markdown",
   "metadata": {},
   "source": [
    "# Gathering data from external sources"
   ]
  },
  {
   "cell_type": "code",
   "execution_count": 108,
   "metadata": {},
   "outputs": [],
   "source": [
    "tabla_ENIGH = pd.read_csv('../dataset/enigh.csv')\n",
    "ITAEE_GRAL = pd.read_csv('../dataset/itaee_gral_2023.csv')"
   ]
  },
  {
   "cell_type": "markdown",
   "metadata": {},
   "source": [
    "### Calculating the current place"
   ]
  },
  {
   "cell_type": "code",
   "execution_count": 109,
   "metadata": {},
   "outputs": [
    {
     "name": "stderr",
     "output_type": "stream",
     "text": [
      "C:\\Users\\DauntLess\\AppData\\Local\\Temp\\ipykernel_12652\\3191708592.py:1: SettingWithCopyWarning: \n",
      "A value is trying to be set on a copy of a slice from a DataFrame.\n",
      "Try using .loc[row_indexer,col_indexer] = value instead\n",
      "\n",
      "See the caveats in the documentation: https://pandas.pydata.org/pandas-docs/stable/user_guide/indexing.html#returning-a-view-versus-a-copy\n",
      "  df_scoring['lugar_actual'] = df_scoring['lugar_actual'].replace('DISTRITO FEDERAL', 'CIUDAD DE MÉXICO')\n"
     ]
    }
   ],
   "source": [
    "df_scoring['lugar_actual'] = df_scoring['lugar_actual'].replace('DISTRITO FEDERAL', 'CIUDAD DE MÉXICO')"
   ]
  },
  {
   "cell_type": "markdown",
   "metadata": {},
   "source": [
    "### Creating a function that matchs the ENIGH with our table"
   ]
  },
  {
   "cell_type": "code",
   "execution_count": 110,
   "metadata": {},
   "outputs": [],
   "source": [
    "def merge_data_enigh(df_scoring, tabla_ENIGH):\n",
    "    for index, row in df_scoring.iterrows():\n",
    "        lugar_actual = row['lugar_actual']\n",
    "        matching_row = tabla_ENIGH[tabla_ENIGH['Entidades'] == lugar_actual]\n",
    "        if not matching_row.empty:\n",
    "            df_scoring.loc[index, 'liquidez_lugar_actual'] = matching_row['Liquidez'].values[0]\n",
    "            df_scoring.loc[index, 'gasto_lugar_actual'] = matching_row['Gasto Total'].values[0]\n",
    "            decil_ingreso = np.digitize(row['ingreso'],\n",
    "                                        bins=matching_row.loc[:, '1':'10'].values[0], right=False)\n",
    "            df_scoring.loc[index, 'decil_ingreso_ENIGH'] = decil_ingreso"
   ]
  },
  {
   "cell_type": "markdown",
   "metadata": {},
   "source": [
    "### Applying the merge_data_enigh function"
   ]
  },
  {
   "cell_type": "code",
   "execution_count": 111,
   "metadata": {},
   "outputs": [
    {
     "name": "stderr",
     "output_type": "stream",
     "text": [
      "C:\\Users\\DauntLess\\AppData\\Local\\Temp\\ipykernel_12652\\2633732614.py:6: SettingWithCopyWarning: \n",
      "A value is trying to be set on a copy of a slice from a DataFrame.\n",
      "Try using .loc[row_indexer,col_indexer] = value instead\n",
      "\n",
      "See the caveats in the documentation: https://pandas.pydata.org/pandas-docs/stable/user_guide/indexing.html#returning-a-view-versus-a-copy\n",
      "  df_scoring.loc[index, 'liquidez_lugar_actual'] = matching_row['Liquidez'].values[0]\n",
      "C:\\Users\\DauntLess\\AppData\\Local\\Temp\\ipykernel_12652\\2633732614.py:7: SettingWithCopyWarning: \n",
      "A value is trying to be set on a copy of a slice from a DataFrame.\n",
      "Try using .loc[row_indexer,col_indexer] = value instead\n",
      "\n",
      "See the caveats in the documentation: https://pandas.pydata.org/pandas-docs/stable/user_guide/indexing.html#returning-a-view-versus-a-copy\n",
      "  df_scoring.loc[index, 'gasto_lugar_actual'] = matching_row['Gasto Total'].values[0]\n",
      "C:\\Users\\DauntLess\\AppData\\Local\\Temp\\ipykernel_12652\\2633732614.py:10: SettingWithCopyWarning: \n",
      "A value is trying to be set on a copy of a slice from a DataFrame.\n",
      "Try using .loc[row_indexer,col_indexer] = value instead\n",
      "\n",
      "See the caveats in the documentation: https://pandas.pydata.org/pandas-docs/stable/user_guide/indexing.html#returning-a-view-versus-a-copy\n",
      "  df_scoring.loc[index, 'decil_ingreso_ENIGH'] = decil_ingreso\n"
     ]
    }
   ],
   "source": [
    "merge_data_enigh(df_scoring, tabla_ENIGH)"
   ]
  },
  {
   "cell_type": "code",
   "execution_count": 112,
   "metadata": {},
   "outputs": [
    {
     "data": {
      "text/html": [
       "<div>\n",
       "<style scoped>\n",
       "    .dataframe tbody tr th:only-of-type {\n",
       "        vertical-align: middle;\n",
       "    }\n",
       "\n",
       "    .dataframe tbody tr th {\n",
       "        vertical-align: top;\n",
       "    }\n",
       "\n",
       "    .dataframe thead th {\n",
       "        text-align: right;\n",
       "    }\n",
       "</style>\n",
       "<table border=\"1\" class=\"dataframe\">\n",
       "  <thead>\n",
       "    <tr style=\"text-align: right;\">\n",
       "      <th></th>\n",
       "      <th>ingreso</th>\n",
       "      <th>antiguedad_laboral_meses</th>\n",
       "      <th>tiempo_desempleado</th>\n",
       "      <th>trabajos_ultimos_5</th>\n",
       "      <th>semanasCotizadas</th>\n",
       "      <th>edad</th>\n",
       "      <th>crecimiento_ingreso</th>\n",
       "      <th>lugar_actual</th>\n",
       "      <th>patronActual</th>\n",
       "      <th>jubilado</th>\n",
       "      <th>liquidez_lugar_actual</th>\n",
       "      <th>gasto_lugar_actual</th>\n",
       "      <th>decil_ingreso_ENIGH</th>\n",
       "    </tr>\n",
       "  </thead>\n",
       "  <tbody>\n",
       "    <tr>\n",
       "      <th>0</th>\n",
       "      <td>0.00</td>\n",
       "      <td>0</td>\n",
       "      <td>0</td>\n",
       "      <td>0</td>\n",
       "      <td>0</td>\n",
       "      <td>41</td>\n",
       "      <td>0.00</td>\n",
       "      <td>None</td>\n",
       "      <td>None</td>\n",
       "      <td>0</td>\n",
       "      <td>NaN</td>\n",
       "      <td>NaN</td>\n",
       "      <td>NaN</td>\n",
       "    </tr>\n",
       "    <tr>\n",
       "      <th>1</th>\n",
       "      <td>0.00</td>\n",
       "      <td>0</td>\n",
       "      <td>0</td>\n",
       "      <td>0</td>\n",
       "      <td>0</td>\n",
       "      <td>26</td>\n",
       "      <td>0.00</td>\n",
       "      <td>None</td>\n",
       "      <td>None</td>\n",
       "      <td>0</td>\n",
       "      <td>NaN</td>\n",
       "      <td>NaN</td>\n",
       "      <td>NaN</td>\n",
       "    </tr>\n",
       "    <tr>\n",
       "      <th>2</th>\n",
       "      <td>0.00</td>\n",
       "      <td>0</td>\n",
       "      <td>0</td>\n",
       "      <td>0</td>\n",
       "      <td>0</td>\n",
       "      <td>40</td>\n",
       "      <td>0.00</td>\n",
       "      <td>None</td>\n",
       "      <td>None</td>\n",
       "      <td>0</td>\n",
       "      <td>NaN</td>\n",
       "      <td>NaN</td>\n",
       "      <td>NaN</td>\n",
       "    </tr>\n",
       "    <tr>\n",
       "      <th>3</th>\n",
       "      <td>0.00</td>\n",
       "      <td>0</td>\n",
       "      <td>0</td>\n",
       "      <td>0</td>\n",
       "      <td>0</td>\n",
       "      <td>52</td>\n",
       "      <td>0.00</td>\n",
       "      <td>None</td>\n",
       "      <td>None</td>\n",
       "      <td>0</td>\n",
       "      <td>NaN</td>\n",
       "      <td>NaN</td>\n",
       "      <td>NaN</td>\n",
       "    </tr>\n",
       "    <tr>\n",
       "      <th>4</th>\n",
       "      <td>0.00</td>\n",
       "      <td>0</td>\n",
       "      <td>0</td>\n",
       "      <td>0</td>\n",
       "      <td>0</td>\n",
       "      <td>18</td>\n",
       "      <td>0.00</td>\n",
       "      <td>None</td>\n",
       "      <td>None</td>\n",
       "      <td>0</td>\n",
       "      <td>NaN</td>\n",
       "      <td>NaN</td>\n",
       "      <td>NaN</td>\n",
       "    </tr>\n",
       "    <tr>\n",
       "      <th>...</th>\n",
       "      <td>...</td>\n",
       "      <td>...</td>\n",
       "      <td>...</td>\n",
       "      <td>...</td>\n",
       "      <td>...</td>\n",
       "      <td>...</td>\n",
       "      <td>...</td>\n",
       "      <td>...</td>\n",
       "      <td>...</td>\n",
       "      <td>...</td>\n",
       "      <td>...</td>\n",
       "      <td>...</td>\n",
       "      <td>...</td>\n",
       "    </tr>\n",
       "    <tr>\n",
       "      <th>26466</th>\n",
       "      <td>11130.01</td>\n",
       "      <td>15</td>\n",
       "      <td>0</td>\n",
       "      <td>1</td>\n",
       "      <td>60</td>\n",
       "      <td>51</td>\n",
       "      <td>0.00</td>\n",
       "      <td>CHIHUAHUA</td>\n",
       "      <td>COPLASCORP</td>\n",
       "      <td>0</td>\n",
       "      <td>15506.0</td>\n",
       "      <td>10954.0</td>\n",
       "      <td>5.0</td>\n",
       "    </tr>\n",
       "    <tr>\n",
       "      <th>26467</th>\n",
       "      <td>0.00</td>\n",
       "      <td>0</td>\n",
       "      <td>29</td>\n",
       "      <td>2</td>\n",
       "      <td>27</td>\n",
       "      <td>37</td>\n",
       "      <td>0.00</td>\n",
       "      <td>COAHUILA DE ZARAGOZA</td>\n",
       "      <td>None</td>\n",
       "      <td>0</td>\n",
       "      <td>15043.0</td>\n",
       "      <td>12717.0</td>\n",
       "      <td>0.0</td>\n",
       "    </tr>\n",
       "    <tr>\n",
       "      <th>26468</th>\n",
       "      <td>0.00</td>\n",
       "      <td>0</td>\n",
       "      <td>6</td>\n",
       "      <td>5</td>\n",
       "      <td>572</td>\n",
       "      <td>35</td>\n",
       "      <td>0.00</td>\n",
       "      <td>JALISCO</td>\n",
       "      <td>None</td>\n",
       "      <td>0</td>\n",
       "      <td>14392.0</td>\n",
       "      <td>13852.0</td>\n",
       "      <td>0.0</td>\n",
       "    </tr>\n",
       "    <tr>\n",
       "      <th>26469</th>\n",
       "      <td>39363.51</td>\n",
       "      <td>7</td>\n",
       "      <td>0</td>\n",
       "      <td>5</td>\n",
       "      <td>1097</td>\n",
       "      <td>44</td>\n",
       "      <td>83.61</td>\n",
       "      <td>QUERÉTARO</td>\n",
       "      <td>INX INTERNATIONAL DE MEXICO</td>\n",
       "      <td>0</td>\n",
       "      <td>15321.0</td>\n",
       "      <td>14301.0</td>\n",
       "      <td>9.0</td>\n",
       "    </tr>\n",
       "    <tr>\n",
       "      <th>26470</th>\n",
       "      <td>10820.06</td>\n",
       "      <td>51</td>\n",
       "      <td>0</td>\n",
       "      <td>1</td>\n",
       "      <td>428</td>\n",
       "      <td>30</td>\n",
       "      <td>0.00</td>\n",
       "      <td>GUANAJUATO</td>\n",
       "      <td>DENSO MEXICO</td>\n",
       "      <td>0</td>\n",
       "      <td>13103.0</td>\n",
       "      <td>11143.0</td>\n",
       "      <td>5.0</td>\n",
       "    </tr>\n",
       "  </tbody>\n",
       "</table>\n",
       "<p>26471 rows × 13 columns</p>\n",
       "</div>"
      ],
      "text/plain": [
       "        ingreso  antiguedad_laboral_meses  tiempo_desempleado  \\\n",
       "0          0.00                         0                   0   \n",
       "1          0.00                         0                   0   \n",
       "2          0.00                         0                   0   \n",
       "3          0.00                         0                   0   \n",
       "4          0.00                         0                   0   \n",
       "...         ...                       ...                 ...   \n",
       "26466  11130.01                        15                   0   \n",
       "26467      0.00                         0                  29   \n",
       "26468      0.00                         0                   6   \n",
       "26469  39363.51                         7                   0   \n",
       "26470  10820.06                        51                   0   \n",
       "\n",
       "       trabajos_ultimos_5  semanasCotizadas  edad  crecimiento_ingreso  \\\n",
       "0                       0                 0    41                 0.00   \n",
       "1                       0                 0    26                 0.00   \n",
       "2                       0                 0    40                 0.00   \n",
       "3                       0                 0    52                 0.00   \n",
       "4                       0                 0    18                 0.00   \n",
       "...                   ...               ...   ...                  ...   \n",
       "26466                   1                60    51                 0.00   \n",
       "26467                   2                27    37                 0.00   \n",
       "26468                   5               572    35                 0.00   \n",
       "26469                   5              1097    44                83.61   \n",
       "26470                   1               428    30                 0.00   \n",
       "\n",
       "               lugar_actual                 patronActual  jubilado  \\\n",
       "0                      None                         None         0   \n",
       "1                      None                         None         0   \n",
       "2                      None                         None         0   \n",
       "3                      None                         None         0   \n",
       "4                      None                         None         0   \n",
       "...                     ...                          ...       ...   \n",
       "26466             CHIHUAHUA                   COPLASCORP         0   \n",
       "26467  COAHUILA DE ZARAGOZA                         None         0   \n",
       "26468               JALISCO                         None         0   \n",
       "26469             QUERÉTARO  INX INTERNATIONAL DE MEXICO         0   \n",
       "26470            GUANAJUATO                 DENSO MEXICO         0   \n",
       "\n",
       "       liquidez_lugar_actual  gasto_lugar_actual  decil_ingreso_ENIGH  \n",
       "0                        NaN                 NaN                  NaN  \n",
       "1                        NaN                 NaN                  NaN  \n",
       "2                        NaN                 NaN                  NaN  \n",
       "3                        NaN                 NaN                  NaN  \n",
       "4                        NaN                 NaN                  NaN  \n",
       "...                      ...                 ...                  ...  \n",
       "26466                15506.0             10954.0                  5.0  \n",
       "26467                15043.0             12717.0                  0.0  \n",
       "26468                14392.0             13852.0                  0.0  \n",
       "26469                15321.0             14301.0                  9.0  \n",
       "26470                13103.0             11143.0                  5.0  \n",
       "\n",
       "[26471 rows x 13 columns]"
      ]
     },
     "execution_count": 112,
     "metadata": {},
     "output_type": "execute_result"
    }
   ],
   "source": [
    "df_scoring"
   ]
  },
  {
   "cell_type": "markdown",
   "metadata": {},
   "source": [
    "### Creating a function that returns porcentual liquidity of that employee"
   ]
  },
  {
   "cell_type": "code",
   "execution_count": 113,
   "metadata": {},
   "outputs": [],
   "source": [
    "def calculate_percentage_liquidity(row):\n",
    "    return ((row['ingreso'] - row['liquidez_lugar_actual']) / row['liquidez_lugar_actual']) * 100"
   ]
  },
  {
   "cell_type": "markdown",
   "metadata": {},
   "source": [
    "### Applying the calculate_percentage_liquidity function"
   ]
  },
  {
   "cell_type": "code",
   "execution_count": 114,
   "metadata": {},
   "outputs": [
    {
     "name": "stderr",
     "output_type": "stream",
     "text": [
      "C:\\Users\\DauntLess\\AppData\\Local\\Temp\\ipykernel_12652\\3352197647.py:1: SettingWithCopyWarning: \n",
      "A value is trying to be set on a copy of a slice from a DataFrame.\n",
      "Try using .loc[row_indexer,col_indexer] = value instead\n",
      "\n",
      "See the caveats in the documentation: https://pandas.pydata.org/pandas-docs/stable/user_guide/indexing.html#returning-a-view-versus-a-copy\n",
      "  df_scoring['liquidez_porcentual'] = df_scoring.apply(calculate_percentage_liquidity, axis=1)\n"
     ]
    }
   ],
   "source": [
    "df_scoring['liquidez_porcentual'] = df_scoring.apply(calculate_percentage_liquidity, axis=1)"
   ]
  },
  {
   "cell_type": "markdown",
   "metadata": {},
   "source": [
    "### Making a function that calculates the cost of living"
   ]
  },
  {
   "cell_type": "code",
   "execution_count": 115,
   "metadata": {},
   "outputs": [],
   "source": [
    "def cost_of_living(row):\n",
    "    return ((row['ingreso'] - row['gasto_lugar_actual']) / row['gasto_lugar_actual']) * 100"
   ]
  },
  {
   "cell_type": "markdown",
   "metadata": {},
   "source": [
    "### Applying the cost_of_living function"
   ]
  },
  {
   "cell_type": "code",
   "execution_count": 116,
   "metadata": {},
   "outputs": [
    {
     "name": "stderr",
     "output_type": "stream",
     "text": [
      "C:\\Users\\DauntLess\\AppData\\Local\\Temp\\ipykernel_12652\\768268384.py:1: SettingWithCopyWarning: \n",
      "A value is trying to be set on a copy of a slice from a DataFrame.\n",
      "Try using .loc[row_indexer,col_indexer] = value instead\n",
      "\n",
      "See the caveats in the documentation: https://pandas.pydata.org/pandas-docs/stable/user_guide/indexing.html#returning-a-view-versus-a-copy\n",
      "  df_scoring['costo_de_vida'] = df_scoring.apply(cost_of_living, axis=1)\n"
     ]
    }
   ],
   "source": [
    "df_scoring['costo_de_vida'] = df_scoring.apply(cost_of_living, axis=1)"
   ]
  },
  {
   "cell_type": "code",
   "execution_count": 117,
   "metadata": {},
   "outputs": [],
   "source": [
    "df_scoring = df_scoring.drop(['liquidez_lugar_actual', 'gasto_lugar_actual'] , axis= 1)"
   ]
  },
  {
   "cell_type": "markdown",
   "metadata": {},
   "source": [
    "### Creating a function that matchs the ITAEE with our table"
   ]
  },
  {
   "cell_type": "code",
   "execution_count": 118,
   "metadata": {},
   "outputs": [],
   "source": [
    "def merge_data_itaee(df_scoring, ITAEE_GREAL):\n",
    "    if 'crecimiento_gral' not in df_scoring.columns:\n",
    "        df_scoring['crecimiento_gral'] = None\n",
    "    for index, row in df_scoring.iterrows():\n",
    "        try:\n",
    "            lugar_actual = row['lugar_actual'].lower()\n",
    "            matching_row = ITAEE_GREAL[ITAEE_GREAL['entidad_federativa'].str.lower() == lugar_actual]\n",
    "            if not matching_row.empty:\n",
    "                df_scoring.loc[index, 'crecimiento_gral'] = matching_row['2023|Anual'].values[0]\n",
    "        except AttributeError:\n",
    "            df_scoring.loc[index, 'crecimiento_gral'] = None"
   ]
  },
  {
   "cell_type": "markdown",
   "metadata": {},
   "source": [
    "### Applying the merge_data_itaee function"
   ]
  },
  {
   "cell_type": "code",
   "execution_count": 119,
   "metadata": {},
   "outputs": [],
   "source": [
    "merge_data_itaee(df_scoring, ITAEE_GRAL)"
   ]
  },
  {
   "cell_type": "markdown",
   "metadata": {},
   "source": [
    "### Deleting the first 90 rows , trash data"
   ]
  },
  {
   "cell_type": "code",
   "execution_count": 120,
   "metadata": {},
   "outputs": [],
   "source": [
    "df_scoring = df_scoring.drop(range(90))\n",
    "df_scoring = df_scoring.reset_index(drop=True)"
   ]
  },
  {
   "cell_type": "markdown",
   "metadata": {},
   "source": [
    "### Deleting duplicated values"
   ]
  },
  {
   "cell_type": "code",
   "execution_count": 121,
   "metadata": {},
   "outputs": [
    {
     "data": {
      "text/plain": [
       "42"
      ]
     },
     "execution_count": 121,
     "metadata": {},
     "output_type": "execute_result"
    }
   ],
   "source": [
    "df_scoring.duplicated().sum()"
   ]
  },
  {
   "cell_type": "code",
   "execution_count": 122,
   "metadata": {},
   "outputs": [],
   "source": [
    "df_scoring = df_scoring.drop_duplicates()\n",
    "df_scoring = df_scoring.reset_index(drop=True)"
   ]
  },
  {
   "cell_type": "code",
   "execution_count": 123,
   "metadata": {},
   "outputs": [
    {
     "data": {
      "text/plain": [
       "0"
      ]
     },
     "execution_count": 123,
     "metadata": {},
     "output_type": "execute_result"
    }
   ],
   "source": [
    "df_scoring.duplicated().sum()"
   ]
  },
  {
   "cell_type": "markdown",
   "metadata": {},
   "source": [
    "### Fixing NaN values"
   ]
  },
  {
   "cell_type": "code",
   "execution_count": 124,
   "metadata": {},
   "outputs": [],
   "source": [
    "df_scoring['decil_ingreso_ENIGH'] = df_scoring['decil_ingreso_ENIGH'].fillna(6)\n",
    "df_scoring['liquidez_porcentual'] = df_scoring['liquidez_porcentual'].fillna(0)\n",
    "df_scoring['costo_de_vida'] = df_scoring['costo_de_vida'].fillna(0)\n",
    "df_scoring['crecimiento_gral'] = df_scoring['crecimiento_gral'].fillna(0)\n",
    "df_scoring['lugar_actual'] = df_scoring['lugar_actual'].fillna('Sin dato')\n",
    "df_scoring['patronActual'] = df_scoring['patronActual'].fillna('Sin dato')"
   ]
  },
  {
   "cell_type": "markdown",
   "metadata": {},
   "source": [
    "### Creating the target column"
   ]
  },
  {
   "cell_type": "code",
   "execution_count": 250,
   "metadata": {},
   "outputs": [],
   "source": [
    "df_scoring['target'] = 0"
   ]
  },
  {
   "cell_type": "markdown",
   "metadata": {},
   "source": [
    "### Making a function that calculates a target value\n",
    "### using business rules as conditionals"
   ]
  },
  {
   "cell_type": "code",
   "execution_count": null,
   "metadata": {},
   "outputs": [],
   "source": [
    "def creating_target(row):\n",
    "    edad = row['edad']\n",
    "    ingreso = row['ingreso']\n",
    "    semanas = row['semanasCotizadas']\n",
    "    antiguedad = row['antiguedad_laboral_meses']\n",
    "    tiempo_desempleado = row['tiempo_desempleado']\n",
    "    trabajos = row['trabajos_ultimos_5']\n",
    "    crecimiento = row['crecimiento_ingreso']\n",
    "    decil = row['decil_ingreso_ENIGH']\n",
    "    liquidez = row['liquidez_porcentual']\n",
    "    costo = row['costo_de_vida']\n",
    "    jubilado = row['jubilado']\n",
    "    region = row['crecimiento_gral']\n",
    "\n",
    "    with open('../business_rules/business_rules.json', 'r', encoding='utf-8') as file:\n",
    "        rules_file = json.load(file)\n",
    "\n",
    "    if rules_file['edad']['limites_08']['min'] <= edad <= rules_file['edad']['limites_08']['max']:\n",
    "        row['target'] += rules_file['edad']['value_08']\n",
    "    elif (rules_file['edad']['limites_06']['min1'] <= edad < rules_file['edad']['limites_06']['max1']):\n",
    "        row['target'] += rules_file['edad']['value_06']\n",
    "    elif (rules_file['edad']['limites_06']['min2'] < edad <= rules_file['edad']['limites_06']['max2']):\n",
    "        row['target'] += rules_file['edad']['value_06']\n",
    "    elif (rules_file['edad']['limites_05']['min1'] <= edad < rules_file['edad']['limites_05']['max1']):\n",
    "        row['target'] += rules_file['edad']['value_05']\n",
    "    elif (rules_file['edad']['limites_05']['min2'] < edad <= rules_file['edad']['limites_05']['max2']):\n",
    "        row['target'] += rules_file['edad']['value_05']\n",
    "    elif (rules_file['edad']['limites_03']['min1'] <= edad < rules_file['edad']['limites_03']['max1']):\n",
    "        row['target'] += rules_file['edad']['value_03']\n",
    "    elif (rules_file['edad']['limites_03']['min2'] < edad <= rules_file['edad']['limites_03']['max2']):\n",
    "        row['target'] += rules_file['edad']['value_03']\n",
    "    else:\n",
    "        row['target'] += rules_file['edad']['value_00']\n",
    "\n",
    "    if ingreso >= rules_file['ingreso']['limites_10']['min']:\n",
    "        row['target'] += rules_file['ingreso']['value_10']\n",
    "    elif rules_file['ingreso']['limites_09']['min'] <= ingreso < rules_file['ingreso']['limites_09']['max']:\n",
    "        row['target'] += rules_file['ingreso']['value_09']\n",
    "    elif rules_file['ingreso']['limites_08']['min'] <= ingreso < rules_file['ingreso']['limites_08']['max']:\n",
    "        row['target'] += rules_file['ingreso']['value_08']\n",
    "    elif rules_file['ingreso']['limites_07']['min'] <= ingreso < rules_file['ingreso']['limites_07']['max']:\n",
    "        row['target'] += rules_file['ingreso']['value_07']\n",
    "    elif rules_file['ingreso']['limites_06']['min'] <= ingreso < rules_file['ingreso']['limites_06']['max']:\n",
    "        row['target'] += rules_file['ingreso']['value_06']\n",
    "    elif rules_file['ingreso']['limites_05']['min'] <= ingreso < rules_file['ingreso']['limites_05']['max']:\n",
    "        row['target'] += rules_file['ingreso']['value_05']\n",
    "    elif rules_file['ingreso']['limites_04']['min'] <= ingreso < rules_file['ingreso']['limites_04']['max']:\n",
    "        row['target'] += rules_file['ingreso']['value_04']\n",
    "    elif rules_file['ingreso']['limites_03']['min'] <= ingreso < rules_file['ingreso']['limites_03']['max']:\n",
    "        row['target'] += rules_file['ingreso']['value_03']\n",
    "    elif rules_file['ingreso']['limites_02']['min'] <= ingreso < rules_file['ingreso']['limites_02']['max']:\n",
    "        row['target'] += rules_file['ingreso']['value_02']\n",
    "    elif rules_file['ingreso']['limites_01']['min'] < ingreso < rules_file['ingreso']['limites_01']['max']:\n",
    "        row['target'] += rules_file['ingreso']['value_01']\n",
    "    else:\n",
    "        row['target'] += rules_file['ingreso']['value_00']\n",
    "\n",
    "    if semanas >= rules_file['semanas']['limites_10']['min']:\n",
    "        row['target'] += rules_file['semanas']['value_10']\n",
    "    elif rules_file['semanas']['limites_08']['max'] > semanas >= rules_file['semanas']['limites_08']['min']:\n",
    "        row['target'] += rules_file['semanas']['value_08']\n",
    "    elif rules_file['semanas']['limites_06']['max'] > semanas >= rules_file['semanas']['limites_06']['min']:\n",
    "        row['target'] += rules_file['semanas']['value_06']\n",
    "    elif rules_file['semanas']['limites_05']['max'] > semanas > rules_file['semanas']['limites_05']['min']:\n",
    "        row['target'] += rules_file['semanas']['value_05']\n",
    "    else:\n",
    "        row['target'] += rules_file['semanas']['value_00']\n",
    "\n",
    "    if antiguedad > rules_file['antiguedad']['limites_10']['min']:\n",
    "        row['target'] += rules_file['antiguedad']['value_10']\n",
    "    elif rules_file['antiguedad']['limites_09']['min'] <= antiguedad <= rules_file['antiguedad']['limites_09']['max']:\n",
    "        row['target'] += rules_file['antiguedad']['value_09']\n",
    "    elif rules_file['antiguedad']['limites_08']['min'] <= antiguedad < rules_file['antiguedad']['limites_08']['max']:\n",
    "        row['target'] += rules_file['antiguedad']['value_08']\n",
    "    elif rules_file['antiguedad']['limites_07']['min'] <= antiguedad < rules_file['antiguedad']['limites_07']['max']:\n",
    "        row['target'] += rules_file['antiguedad']['value_07']\n",
    "    elif rules_file['antiguedad']['limites_06']['min'] <= antiguedad < rules_file['antiguedad']['limites_06']['max']:\n",
    "        row['target'] += rules_file['antiguedad']['value_06']\n",
    "    elif rules_file['antiguedad']['limites_05']['min'] <= antiguedad < rules_file['antiguedad']['limites_05']['max']:\n",
    "        row['target'] += rules_file['antiguedad']['value_05']\n",
    "    elif rules_file['antiguedad']['limites_04']['min'] <= antiguedad < rules_file['antiguedad']['limites_04']['max']:\n",
    "        row['target'] += rules_file['antiguedad']['value_04']\n",
    "    elif rules_file['antiguedad']['limites_03']['min'] <= antiguedad < rules_file['antiguedad']['limites_03']['max']:\n",
    "        row['target'] += rules_file['antiguedad']['value_03']\n",
    "    elif rules_file['antiguedad']['limites_02']['min'] <= antiguedad < rules_file['antiguedad']['limites_02']['max']:\n",
    "        row['target'] += rules_file['antiguedad']['value_02']\n",
    "    elif rules_file['antiguedad']['limites_01']['min'] <= antiguedad < rules_file['antiguedad']['limites_01']['max']:\n",
    "        row['target'] += rules_file['antiguedad']['value_01']\n",
    "    else:\n",
    "        row['target'] += rules_file['antiguedad']['value_00']\n",
    "\n",
    "    if tiempo_desempleado == rules_file['tiempo_desempleado']['limites_06']['min']:\n",
    "        row['target'] += rules_file['tiempo_desempleado']['value_06']\n",
    "        if antiguedad == 0:\n",
    "            row['target'] -= rules_file['tiempo_desempleado']['value_01']\n",
    "    elif rules_file['tiempo_desempleado']['limites_04']['max'] >= tiempo_desempleado > rules_file['tiempo_desempleado']['limites_04']['min']:\n",
    "        row['target'] += rules_file['tiempo_desempleado']['value_04']\n",
    "    elif rules_file['tiempo_desempleado']['limites_03']['max'] >= tiempo_desempleado > rules_file['tiempo_desempleado']['limites_03']['min']:\n",
    "        row['target'] += rules_file['tiempo_desempleado']['value_03']\n",
    "    elif rules_file['tiempo_desempleado']['limites_01']['max'] >= tiempo_desempleado > rules_file['tiempo_desempleado']['limites_01']['min']:\n",
    "        row['target'] += rules_file['tiempo_desempleado']['value_01']\n",
    "    else:\n",
    "        row['target'] += rules_file['tiempo_desempleado']['value_00']\n",
    "\n",
    "    if trabajos == rules_file['trabajos']['limites_10']['min']:\n",
    "        row['target'] += rules_file['trabajos']['value_10']\n",
    "    elif trabajos == rules_file['trabajos']['limites_08']['min']:\n",
    "        row['target'] += rules_file['trabajos']['value_08']\n",
    "    elif trabajos == rules_file['trabajos']['limites_06']['min']:\n",
    "        row['target'] += rules_file['trabajos']['value_06']\n",
    "    elif trabajos == rules_file['trabajos']['limites_05']['min']:\n",
    "        row['target'] += rules_file['trabajos']['value_05']\n",
    "    elif trabajos == rules_file['trabajos']['limites_04']['min']:\n",
    "        row['target'] += rules_file['trabajos']['value_04']\n",
    "    elif rules_file['trabajos']['limites_03']['min'] <= trabajos <= rules_file['trabajos']['limites_03']['max']:\n",
    "        row['target'] += rules_file['trabajos']['value_03']\n",
    "    elif trabajos == rules_file['trabajos']['limites_02']['min']:\n",
    "        row['target'] += rules_file['trabajos']['value_02']\n",
    "    elif trabajos == rules_file['trabajos']['limites_01']['min']:\n",
    "        row['target'] += rules_file['trabajos']['value_01']\n",
    "    else:\n",
    "        row['target'] += rules_file['trabajos']['value_00']\n",
    "\n",
    "    if rules_file['crecimiento']['limites_10']['min'] <= crecimiento <= rules_file['crecimiento']['limites_10']['max']:\n",
    "        row['target'] += rules_file['crecimiento']['value_10']\n",
    "    elif (rules_file['crecimiento']['limites_08']['min1'] <= crecimiento < rules_file['crecimiento']['limites_08']['max1']) \\\n",
    "        or (rules_file['crecimiento']['limites_08']['min2'] < crecimiento <= rules_file['crecimiento']['limites_08']['max2']):\n",
    "        row['target'] += rules_file['crecimiento']['value_08']\n",
    "    elif (rules_file['crecimiento']['limites_05']['min1'] <= crecimiento < rules_file['crecimiento']['limites_05']['max1']) \\\n",
    "        or (crecimiento > rules_file['crecimiento']['limites_05']['max2']):\n",
    "        row['target'] += rules_file['crecimiento']['value_05']\n",
    "    elif rules_file['crecimiento']['limites_04']['min'] <= crecimiento < rules_file['crecimiento']['limites_04']['max']:\n",
    "        row['target'] += rules_file['crecimiento']['value_04']\n",
    "    elif rules_file['crecimiento']['limites_03']['min'] <= crecimiento < rules_file['crecimiento']['limites_03']['max']:\n",
    "        row['target'] += rules_file['crecimiento']['value_03']\n",
    "    elif rules_file['crecimiento']['limites_02']['min'] <= crecimiento < rules_file['crecimiento']['limites_02']['max']:\n",
    "        row['target'] += rules_file['crecimiento']['value_02']\n",
    "    else:\n",
    "        row['target'] += rules_file['crecimiento']['value_00']\n",
    "\n",
    "    if decil == rules_file['decil']['limites_10']['min']:\n",
    "        row['target'] += rules_file['decil']['value_10']\n",
    "    elif decil == rules_file['decil']['limites_08']['min']:\n",
    "        row['target'] += rules_file['decil']['value_08']\n",
    "    elif decil == rules_file['decil']['limites_07']['min']:\n",
    "        row['target'] += rules_file['decil']['value_07']\n",
    "    elif decil == rules_file['decil']['limites_06']['min']:\n",
    "        row['target'] += rules_file['decil']['value_06']\n",
    "    elif rules_file['decil']['limites_05']['min'] <= decil <= rules_file['decil']['limites_05']['max']:\n",
    "        row['target'] += rules_file['decil']['value_05']\n",
    "    elif decil == rules_file['decil']['limites_03']['min']:\n",
    "        row['target'] += rules_file['decil']['value_03']\n",
    "    elif decil == rules_file['decil']['limites_02']['min']:\n",
    "        row['target'] += rules_file['decil']['value_02']\n",
    "    else:\n",
    "        row['target'] += rules_file['decil']['value_00']\n",
    "\n",
    "    if liquidez >= rules_file['liquidez']['limites_10']['min']:\n",
    "        row['target'] += rules_file['liquidez']['value_10']\n",
    "    elif rules_file['liquidez']['limites_09']['min'] <= liquidez < rules_file['liquidez']['limites_09']['max']:\n",
    "        row['target'] += rules_file['liquidez']['value_09']\n",
    "    elif rules_file['liquidez']['limites_08']['min'] <= liquidez < rules_file['liquidez']['limites_08']['max']:\n",
    "        row['target'] += rules_file['liquidez']['value_08']\n",
    "    elif rules_file['liquidez']['limites_07']['min'] <= liquidez < rules_file['liquidez']['limites_07']['max']:\n",
    "        row['target'] += rules_file['liquidez']['value_07']\n",
    "    elif rules_file['liquidez']['limites_06']['min'] <= liquidez < rules_file['liquidez']['limites_06']['max']:\n",
    "        row['target'] += rules_file['liquidez']['value_06']\n",
    "    elif rules_file['liquidez']['limites_05']['min'] <= liquidez < rules_file['liquidez']['limites_05']['max']:\n",
    "        row['target'] += rules_file['liquidez']['value_05']\n",
    "    elif rules_file['liquidez']['limites_04']['min'] <= liquidez < rules_file['liquidez']['limites_04']['max']:\n",
    "        row['target'] += rules_file['liquidez']['value_04']\n",
    "    elif rules_file['liquidez']['limites_03']['min'] <= liquidez < rules_file['liquidez']['limites_03']['max']:\n",
    "        row['target'] += rules_file['liquidez']['value_03']\n",
    "    elif rules_file['liquidez']['limites_02']['min'] <= liquidez < rules_file['liquidez']['limites_02']['max']:\n",
    "        row['target'] += rules_file['liquidez']['value_02']\n",
    "    elif rules_file['liquidez']['limites_01']['min'] <= liquidez < rules_file['liquidez']['limites_01']['max']:\n",
    "        row['target'] += rules_file['liquidez']['value_01']\n",
    "    else:\n",
    "        row['target'] += rules_file['liquidez']['value_00']\n",
    "\n",
    "    if costo >= rules_file['costo']['limites_10']['min']:\n",
    "        row['target'] += rules_file['costo']['value_10']\n",
    "    elif rules_file['costo']['limites_09']['min'] <= costo < rules_file['costo']['limites_09']['max']:\n",
    "        row['target'] += rules_file['costo']['value_09']\n",
    "    elif rules_file['costo']['limites_08']['min'] <= costo < rules_file['costo']['limites_08']['max']:\n",
    "        row['target'] += rules_file['costo']['value_08']\n",
    "    elif rules_file['costo']['limites_07']['min'] <= costo < rules_file['costo']['limites_07']['max']:\n",
    "        row['target'] += rules_file['costo']['value_07']\n",
    "    elif rules_file['costo']['limites_06']['min'] <= costo < rules_file['costo']['limites_06']['max']:\n",
    "        row['target'] += rules_file['costo']['value_06']\n",
    "    elif rules_file['costo']['limites_05']['min'] <= costo < rules_file['costo']['limites_05']['max']:\n",
    "        row['target'] += rules_file['costo']['value_05']\n",
    "    elif rules_file['costo']['limites_04']['min'] <= costo < rules_file['costo']['limites_04']['max']:\n",
    "        row['target'] += rules_file['costo']['value_04']\n",
    "    elif rules_file['costo']['limites_03']['min'] <= costo < rules_file['costo']['limites_03']['max']:\n",
    "        row['target'] += rules_file['costo']['value_03']\n",
    "    elif rules_file['costo']['limites_02']['min'] <= costo < rules_file['costo']['limites_02']['max']:\n",
    "        row['target'] += rules_file['costo']['value_02']\n",
    "    elif rules_file['costo']['limites_01']['min'] <= costo < rules_file['costo']['limites_01']['max']:\n",
    "        row['target'] += rules_file['costo']['value_01']\n",
    "    else:\n",
    "        row['target'] += rules_file['costo']['value_00']\n",
    "\n",
    "    if jubilado == 1:\n",
    "        if antiguedad == 0:\n",
    "            row['target'] += rules_file['jubilado']['value_05']\n",
    "            row['target'] += rules_file['jubilado']['value_05']\n",
    "            row['target'] += rules_file['jubilado']['value_05']\n",
    "            row['target'] += rules_file['jubilado']['value_05']\n",
    "\n",
    "    if region > rules_file['region']['limites_09']['min']:\n",
    "        row['target'] += rules_file['region']['value_09']\n",
    "    elif rules_file['region']['limites_08']['max'] >= region > rules_file['region']['limites_08']['min']:\n",
    "        row['target'] += rules_file['region']['value_08']\n",
    "    elif rules_file['region']['limites_07']['max'] >= region > rules_file['region']['limites_07']['min']:\n",
    "        row['target'] += rules_file['region']['value_07']\n",
    "    elif rules_file['region']['limites_06']['max'] >= region > rules_file['region']['limites_06']['min']:\n",
    "        row['target'] += rules_file['region']['value_06']\n",
    "    elif rules_file['region']['limites_05']['max'] >= region > rules_file['region']['limites_05']['min']:\n",
    "        row['target'] += rules_file['region']['value_05']\n",
    "    elif rules_file['region']['limites_04']['max'] >= region > rules_file['region']['limites_04']['min']:\n",
    "        row['target'] += rules_file['region']['value_04']\n",
    "    elif rules_file['region']['limites_03']['max'] >= region > rules_file['region']['limites_03']['min']:\n",
    "        row['target'] += rules_file['region']['value_03']\n",
    "    elif rules_file['region']['limites_02']['max'] >= region > rules_file['region']['limites_02']['min']:\n",
    "        row['target'] += rules_file['region']['value_02']\n",
    "    elif region < rules_file['region']['limites_01']['max']:\n",
    "        row['target'] += rules_file['region']['value_01']\n",
    "    else:\n",
    "        row['target'] += rules_file['region']['value_00']\n",
    "\n",
    "    return row"
   ]
  },
  {
   "cell_type": "markdown",
   "metadata": {},
   "source": [
    "### Applying the create_target function to set up the target in our dataframe"
   ]
  },
  {
   "cell_type": "code",
   "execution_count": 252,
   "metadata": {},
   "outputs": [],
   "source": [
    "df_scoring = df_scoring.apply(creating_target, axis=1)\n",
    "df_scoring['target'] = round((df_scoring['target'] / 12) , 2)"
   ]
  },
  {
   "cell_type": "markdown",
   "metadata": {},
   "source": [
    "### Rescaling the target to 300 - 850"
   ]
  },
  {
   "cell_type": "code",
   "execution_count": 253,
   "metadata": {},
   "outputs": [],
   "source": [
    "def rescale(df, column, new_min, new_max):\n",
    "    df_copy = df.copy()\n",
    "    old_min = df_copy[column].min()\n",
    "    old_max = df_copy[column].max()\n",
    "\n",
    "    df_copy[column] = (df_copy[column] - old_min) * (new_max - new_min) / (old_max - old_min) + new_min\n",
    "    return df_copy"
   ]
  },
  {
   "cell_type": "markdown",
   "metadata": {},
   "source": [
    "### Applying the rescale function"
   ]
  },
  {
   "cell_type": "code",
   "execution_count": 254,
   "metadata": {},
   "outputs": [],
   "source": [
    "df_scoring = rescale(df_scoring, 'target', 0.3, 0.85)"
   ]
  },
  {
   "cell_type": "markdown",
   "metadata": {},
   "source": [
    "# MAKING A FINAL CSV TO BE SENT TO MACHINE LEARNING MODEL"
   ]
  },
  {
   "cell_type": "code",
   "execution_count": 255,
   "metadata": {},
   "outputs": [],
   "source": [
    "df_ml = df_scoring.drop(['lugar_actual','patronActual','jubilado'] , axis= 1)"
   ]
  },
  {
   "cell_type": "code",
   "execution_count": 256,
   "metadata": {},
   "outputs": [
    {
     "data": {
      "text/html": [
       "<div>\n",
       "<style scoped>\n",
       "    .dataframe tbody tr th:only-of-type {\n",
       "        vertical-align: middle;\n",
       "    }\n",
       "\n",
       "    .dataframe tbody tr th {\n",
       "        vertical-align: top;\n",
       "    }\n",
       "\n",
       "    .dataframe thead th {\n",
       "        text-align: right;\n",
       "    }\n",
       "</style>\n",
       "<table border=\"1\" class=\"dataframe\">\n",
       "  <thead>\n",
       "    <tr style=\"text-align: right;\">\n",
       "      <th></th>\n",
       "      <th>ingreso</th>\n",
       "      <th>antiguedad_laboral_meses</th>\n",
       "      <th>tiempo_desempleado</th>\n",
       "      <th>trabajos_ultimos_5</th>\n",
       "      <th>semanasCotizadas</th>\n",
       "      <th>edad</th>\n",
       "      <th>crecimiento_ingreso</th>\n",
       "      <th>lugar_actual</th>\n",
       "      <th>patronActual</th>\n",
       "      <th>jubilado</th>\n",
       "      <th>decil_ingreso_ENIGH</th>\n",
       "      <th>liquidez_porcentual</th>\n",
       "      <th>costo_de_vida</th>\n",
       "      <th>crecimiento_gral</th>\n",
       "      <th>target</th>\n",
       "    </tr>\n",
       "  </thead>\n",
       "  <tbody>\n",
       "    <tr>\n",
       "      <th>26334</th>\n",
       "      <td>11130.01</td>\n",
       "      <td>15</td>\n",
       "      <td>0</td>\n",
       "      <td>1</td>\n",
       "      <td>60</td>\n",
       "      <td>51</td>\n",
       "      <td>0.00</td>\n",
       "      <td>CHIHUAHUA</td>\n",
       "      <td>COPLASCORP</td>\n",
       "      <td>0</td>\n",
       "      <td>5.0</td>\n",
       "      <td>-28.221269</td>\n",
       "      <td>1.606810</td>\n",
       "      <td>2.576073</td>\n",
       "      <td>0.594928</td>\n",
       "    </tr>\n",
       "    <tr>\n",
       "      <th>26335</th>\n",
       "      <td>0.00</td>\n",
       "      <td>0</td>\n",
       "      <td>29</td>\n",
       "      <td>2</td>\n",
       "      <td>27</td>\n",
       "      <td>37</td>\n",
       "      <td>0.00</td>\n",
       "      <td>COAHUILA DE ZARAGOZA</td>\n",
       "      <td>Sin dato</td>\n",
       "      <td>0</td>\n",
       "      <td>0.0</td>\n",
       "      <td>-100.000000</td>\n",
       "      <td>-100.000000</td>\n",
       "      <td>0.694582</td>\n",
       "      <td>0.403623</td>\n",
       "    </tr>\n",
       "    <tr>\n",
       "      <th>26336</th>\n",
       "      <td>0.00</td>\n",
       "      <td>0</td>\n",
       "      <td>6</td>\n",
       "      <td>5</td>\n",
       "      <td>572</td>\n",
       "      <td>35</td>\n",
       "      <td>0.00</td>\n",
       "      <td>JALISCO</td>\n",
       "      <td>Sin dato</td>\n",
       "      <td>0</td>\n",
       "      <td>0.0</td>\n",
       "      <td>-100.000000</td>\n",
       "      <td>-100.000000</td>\n",
       "      <td>2.125347</td>\n",
       "      <td>0.427536</td>\n",
       "    </tr>\n",
       "    <tr>\n",
       "      <th>26337</th>\n",
       "      <td>39363.51</td>\n",
       "      <td>7</td>\n",
       "      <td>0</td>\n",
       "      <td>5</td>\n",
       "      <td>1097</td>\n",
       "      <td>44</td>\n",
       "      <td>83.61</td>\n",
       "      <td>QUERÉTARO</td>\n",
       "      <td>INX INTERNATIONAL DE MEXICO</td>\n",
       "      <td>0</td>\n",
       "      <td>9.0</td>\n",
       "      <td>156.925201</td>\n",
       "      <td>175.250052</td>\n",
       "      <td>2.542859</td>\n",
       "      <td>0.746377</td>\n",
       "    </tr>\n",
       "    <tr>\n",
       "      <th>26338</th>\n",
       "      <td>10820.06</td>\n",
       "      <td>51</td>\n",
       "      <td>0</td>\n",
       "      <td>1</td>\n",
       "      <td>428</td>\n",
       "      <td>30</td>\n",
       "      <td>0.00</td>\n",
       "      <td>GUANAJUATO</td>\n",
       "      <td>DENSO MEXICO</td>\n",
       "      <td>0</td>\n",
       "      <td>5.0</td>\n",
       "      <td>-17.423033</td>\n",
       "      <td>-2.898142</td>\n",
       "      <td>2.528201</td>\n",
       "      <td>0.658696</td>\n",
       "    </tr>\n",
       "  </tbody>\n",
       "</table>\n",
       "</div>"
      ],
      "text/plain": [
       "        ingreso  antiguedad_laboral_meses  tiempo_desempleado  \\\n",
       "26334  11130.01                        15                   0   \n",
       "26335      0.00                         0                  29   \n",
       "26336      0.00                         0                   6   \n",
       "26337  39363.51                         7                   0   \n",
       "26338  10820.06                        51                   0   \n",
       "\n",
       "       trabajos_ultimos_5  semanasCotizadas  edad  crecimiento_ingreso  \\\n",
       "26334                   1                60    51                 0.00   \n",
       "26335                   2                27    37                 0.00   \n",
       "26336                   5               572    35                 0.00   \n",
       "26337                   5              1097    44                83.61   \n",
       "26338                   1               428    30                 0.00   \n",
       "\n",
       "               lugar_actual                 patronActual  jubilado  \\\n",
       "26334             CHIHUAHUA                   COPLASCORP         0   \n",
       "26335  COAHUILA DE ZARAGOZA                     Sin dato         0   \n",
       "26336               JALISCO                     Sin dato         0   \n",
       "26337             QUERÉTARO  INX INTERNATIONAL DE MEXICO         0   \n",
       "26338            GUANAJUATO                 DENSO MEXICO         0   \n",
       "\n",
       "       decil_ingreso_ENIGH  liquidez_porcentual  costo_de_vida  \\\n",
       "26334                  5.0           -28.221269       1.606810   \n",
       "26335                  0.0          -100.000000    -100.000000   \n",
       "26336                  0.0          -100.000000    -100.000000   \n",
       "26337                  9.0           156.925201     175.250052   \n",
       "26338                  5.0           -17.423033      -2.898142   \n",
       "\n",
       "       crecimiento_gral    target  \n",
       "26334          2.576073  0.594928  \n",
       "26335          0.694582  0.403623  \n",
       "26336          2.125347  0.427536  \n",
       "26337          2.542859  0.746377  \n",
       "26338          2.528201  0.658696  "
      ]
     },
     "execution_count": 256,
     "metadata": {},
     "output_type": "execute_result"
    }
   ],
   "source": [
    "df_scoring.tail()"
   ]
  },
  {
   "cell_type": "code",
   "execution_count": 258,
   "metadata": {},
   "outputs": [],
   "source": [
    "df_ml.to_csv('../dataset/data_prueba_limpia.csv', index=False)"
   ]
  }
 ],
 "metadata": {
  "kernelspec": {
   "display_name": "base",
   "language": "python",
   "name": "python3"
  },
  "language_info": {
   "codemirror_mode": {
    "name": "ipython",
    "version": 3
   },
   "file_extension": ".py",
   "mimetype": "text/x-python",
   "name": "python",
   "nbconvert_exporter": "python",
   "pygments_lexer": "ipython3",
   "version": "3.11.1"
  },
  "orig_nbformat": 4
 },
 "nbformat": 4,
 "nbformat_minor": 2
}
